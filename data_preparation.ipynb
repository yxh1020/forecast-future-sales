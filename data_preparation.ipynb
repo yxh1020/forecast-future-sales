{
 "cells": [
  {
   "cell_type": "markdown",
   "metadata": {
    "colab_type": "text",
    "id": "dlLAW99vXyjn"
   },
   "source": [
    "<h1>Problem description</h1>\n",
    "<a href=\"https://www.kaggle.com/c/competitive-data-science-predict-future-sales\">kaggle: Predict Future Sales</a>\n",
    "\n",
    "<h2> Data fields </h2>\n",
    "<li>ID - an Id that represents a (Shop, Item) tuple within the test set</li>\n",
    "<li>shop_id - unique identifier of a shop</li>\n",
    "<li>item_id - unique identifier of a product</li>\n",
    "<li>item_category_id - unique identifier of item category</li>\n",
    "<li>item_cnt_day - number of products sold. You are predicting a monthly amount of this measure</li>\n",
    "<li>item_price - current price of an item</li>\n",
    "<li>date - date in format dd/mm/yyyy</li>\n",
    "<li>date_block_num - a consecutive month number, used for convenience. January 2013 is 0, February 2013 is 1,..., October 2015 is 33</li>\n",
    "<li>item_name - name of item</li>\n",
    "<li>shop_name - name of shop</li>\n",
    "<li>item_category_name - name of item category</li>"
   ]
  },
  {
   "cell_type": "markdown",
   "metadata": {
    "colab_type": "text",
    "id": "ISPBplKyXyjp"
   },
   "source": [
    "<h1> Load Modules </h1>"
   ]
  },
  {
   "cell_type": "code",
   "execution_count": 0,
   "metadata": {
    "colab": {},
    "colab_type": "code",
    "id": "Tyy0M6KTXyjq"
   },
   "outputs": [],
   "source": [
    "import pandas as pd\n",
    "import numpy as np\n",
    "from sklearn.preprocessing import LabelEncoder\n",
    "from itertools import product\n",
    "\n",
    "import seaborn as sns\n",
    "import matplotlib.pyplot as plt\n",
    "%matplotlib inline"
   ]
  },
  {
   "cell_type": "markdown",
   "metadata": {
    "colab_type": "text",
    "id": "tvMawCe2aQOz"
   },
   "source": [
    "<h1> Load data </h1>"
   ]
  },
  {
   "cell_type": "code",
   "execution_count": 0,
   "metadata": {
    "colab": {},
    "colab_type": "code",
    "id": "ZhRQW5qTXyjv"
   },
   "outputs": [],
   "source": [
    "train = pd.read_csv('data/sales_train.csv')\n",
    "test = pd.read_csv('data/test.csv')\n",
    "item_categories = pd.read_csv('data/item_categories.csv')\n",
    "items = pd.read_csv('data/items.csv')\n",
    "shops = pd.read_csv('data/shops.csv')"
   ]
  },
  {
   "cell_type": "markdown",
   "metadata": {
    "colab_type": "text",
    "id": "aO1CVOWsXyj3"
   },
   "source": [
    "<h1> Exploratory Data Analysis </h1>"
   ]
  },
  {
   "cell_type": "code",
   "execution_count": 0,
   "metadata": {
    "colab": {},
    "colab_type": "code",
    "id": "bJca04rcXyj0"
   },
   "outputs": [],
   "source": [
    "def display_missing(df): \n",
    "    print(\"----------Missing value-----------\")   \n",
    "    for col in df.columns.tolist():          \n",
    "        print('{} column missing values: {}'.format(col, df[col].isnull().sum()))\n",
    "    print('\\n')\n",
    "\n",
    "def display_null(df):\n",
    "    print(\"----------Null value-----------\")    \n",
    "    for col in df.columns.tolist():         \n",
    "        print('{} column null values: {}'.format(col, df[col].isna().sum()))\n",
    "    print('\\n')"
   ]
  },
  {
   "cell_type": "code",
   "execution_count": 5,
   "metadata": {
    "colab": {
     "base_uri": "https://localhost:8080/",
     "height": 195
    },
    "colab_type": "code",
    "executionInfo": {
     "elapsed": 224640,
     "status": "ok",
     "timestamp": 1576001568247,
     "user": {
      "displayName": "Yuan Hu",
      "photoUrl": "",
      "userId": "14204862805009818583"
     },
     "user_tz": 480
    },
    "id": "VerFb53SXyj3",
    "outputId": "90c9d5f3-bbe8-45d3-e268-a98e2c9d5077"
   },
   "outputs": [
    {
     "data": {
      "text/html": [
       "<div>\n",
       "<style scoped>\n",
       "    .dataframe tbody tr th:only-of-type {\n",
       "        vertical-align: middle;\n",
       "    }\n",
       "\n",
       "    .dataframe tbody tr th {\n",
       "        vertical-align: top;\n",
       "    }\n",
       "\n",
       "    .dataframe thead th {\n",
       "        text-align: right;\n",
       "    }\n",
       "</style>\n",
       "<table border=\"1\" class=\"dataframe\">\n",
       "  <thead>\n",
       "    <tr style=\"text-align: right;\">\n",
       "      <th></th>\n",
       "      <th>date</th>\n",
       "      <th>date_block_num</th>\n",
       "      <th>shop_id</th>\n",
       "      <th>item_id</th>\n",
       "      <th>item_price</th>\n",
       "      <th>item_cnt_day</th>\n",
       "    </tr>\n",
       "  </thead>\n",
       "  <tbody>\n",
       "    <tr>\n",
       "      <th>0</th>\n",
       "      <td>02.01.2013</td>\n",
       "      <td>0</td>\n",
       "      <td>59</td>\n",
       "      <td>22154</td>\n",
       "      <td>999.00</td>\n",
       "      <td>1.0</td>\n",
       "    </tr>\n",
       "    <tr>\n",
       "      <th>1</th>\n",
       "      <td>03.01.2013</td>\n",
       "      <td>0</td>\n",
       "      <td>25</td>\n",
       "      <td>2552</td>\n",
       "      <td>899.00</td>\n",
       "      <td>1.0</td>\n",
       "    </tr>\n",
       "    <tr>\n",
       "      <th>2</th>\n",
       "      <td>05.01.2013</td>\n",
       "      <td>0</td>\n",
       "      <td>25</td>\n",
       "      <td>2552</td>\n",
       "      <td>899.00</td>\n",
       "      <td>-1.0</td>\n",
       "    </tr>\n",
       "    <tr>\n",
       "      <th>3</th>\n",
       "      <td>06.01.2013</td>\n",
       "      <td>0</td>\n",
       "      <td>25</td>\n",
       "      <td>2554</td>\n",
       "      <td>1709.05</td>\n",
       "      <td>1.0</td>\n",
       "    </tr>\n",
       "    <tr>\n",
       "      <th>4</th>\n",
       "      <td>15.01.2013</td>\n",
       "      <td>0</td>\n",
       "      <td>25</td>\n",
       "      <td>2555</td>\n",
       "      <td>1099.00</td>\n",
       "      <td>1.0</td>\n",
       "    </tr>\n",
       "  </tbody>\n",
       "</table>\n",
       "</div>"
      ],
      "text/plain": [
       "         date  date_block_num  shop_id  item_id  item_price  item_cnt_day\n",
       "0  02.01.2013               0       59    22154      999.00           1.0\n",
       "1  03.01.2013               0       25     2552      899.00           1.0\n",
       "2  05.01.2013               0       25     2552      899.00          -1.0\n",
       "3  06.01.2013               0       25     2554     1709.05           1.0\n",
       "4  15.01.2013               0       25     2555     1099.00           1.0"
      ]
     },
     "execution_count": 5,
     "metadata": {
      "tags": []
     },
     "output_type": "execute_result"
    }
   ],
   "source": [
    "train.head()"
   ]
  },
  {
   "cell_type": "code",
   "execution_count": 6,
   "metadata": {
    "colab": {
     "base_uri": "https://localhost:8080/",
     "height": 202
    },
    "colab_type": "code",
    "executionInfo": {
     "elapsed": 224623,
     "status": "ok",
     "timestamp": 1576001568248,
     "user": {
      "displayName": "Yuan Hu",
      "photoUrl": "",
      "userId": "14204862805009818583"
     },
     "user_tz": 480
    },
    "id": "CC3U7td3Xyj7",
    "outputId": "d8af860a-1868-467b-c758-b2c8b7bebedd"
   },
   "outputs": [
    {
     "name": "stdout",
     "output_type": "stream",
     "text": [
      "<class 'pandas.core.frame.DataFrame'>\n",
      "RangeIndex: 2935849 entries, 0 to 2935848\n",
      "Data columns (total 6 columns):\n",
      "date              object\n",
      "date_block_num    int64\n",
      "shop_id           int64\n",
      "item_id           int64\n",
      "item_price        float64\n",
      "item_cnt_day      float64\n",
      "dtypes: float64(2), int64(3), object(1)\n",
      "memory usage: 134.4+ MB\n"
     ]
    }
   ],
   "source": [
    "train.info()"
   ]
  },
  {
   "cell_type": "code",
   "execution_count": 7,
   "metadata": {
    "colab": {
     "base_uri": "https://localhost:8080/",
     "height": 319
    },
    "colab_type": "code",
    "executionInfo": {
     "elapsed": 224604,
     "status": "ok",
     "timestamp": 1576001568248,
     "user": {
      "displayName": "Yuan Hu",
      "photoUrl": "",
      "userId": "14204862805009818583"
     },
     "user_tz": 480
    },
    "id": "D7HLBTgJpN9B",
    "outputId": "ab8e065c-96ca-41a2-fcb8-16aa151c8295"
   },
   "outputs": [
    {
     "name": "stdout",
     "output_type": "stream",
     "text": [
      "----------Missing value-----------\n",
      "date column missing values: 0\n",
      "date_block_num column missing values: 0\n",
      "shop_id column missing values: 0\n",
      "item_id column missing values: 0\n",
      "item_price column missing values: 0\n",
      "item_cnt_day column missing values: 0\n",
      "\n",
      "\n",
      "----------Null value-----------\n",
      "date column null values: 0\n",
      "date_block_num column null values: 0\n",
      "shop_id column null values: 0\n",
      "item_id column null values: 0\n",
      "item_price column null values: 0\n",
      "item_cnt_day column null values: 0\n",
      "\n",
      "\n"
     ]
    }
   ],
   "source": [
    "display_missing(train)\n",
    "display_null(train)"
   ]
  },
  {
   "cell_type": "code",
   "execution_count": 8,
   "metadata": {
    "colab": {
     "base_uri": "https://localhost:8080/",
     "height": 284
    },
    "colab_type": "code",
    "executionInfo": {
     "elapsed": 224987,
     "status": "ok",
     "timestamp": 1576001568651,
     "user": {
      "displayName": "Yuan Hu",
      "photoUrl": "",
      "userId": "14204862805009818583"
     },
     "user_tz": 480
    },
    "id": "AC5JBI8GXyj9",
    "outputId": "053c40bf-44b7-49fd-b2b6-dfb32c84be0e"
   },
   "outputs": [
    {
     "data": {
      "text/html": [
       "<div>\n",
       "<style scoped>\n",
       "    .dataframe tbody tr th:only-of-type {\n",
       "        vertical-align: middle;\n",
       "    }\n",
       "\n",
       "    .dataframe tbody tr th {\n",
       "        vertical-align: top;\n",
       "    }\n",
       "\n",
       "    .dataframe thead th {\n",
       "        text-align: right;\n",
       "    }\n",
       "</style>\n",
       "<table border=\"1\" class=\"dataframe\">\n",
       "  <thead>\n",
       "    <tr style=\"text-align: right;\">\n",
       "      <th></th>\n",
       "      <th>date_block_num</th>\n",
       "      <th>shop_id</th>\n",
       "      <th>item_id</th>\n",
       "      <th>item_price</th>\n",
       "      <th>item_cnt_day</th>\n",
       "    </tr>\n",
       "  </thead>\n",
       "  <tbody>\n",
       "    <tr>\n",
       "      <th>count</th>\n",
       "      <td>2.935849e+06</td>\n",
       "      <td>2.935849e+06</td>\n",
       "      <td>2.935849e+06</td>\n",
       "      <td>2.935849e+06</td>\n",
       "      <td>2.935849e+06</td>\n",
       "    </tr>\n",
       "    <tr>\n",
       "      <th>mean</th>\n",
       "      <td>1.456991e+01</td>\n",
       "      <td>3.300173e+01</td>\n",
       "      <td>1.019723e+04</td>\n",
       "      <td>8.908532e+02</td>\n",
       "      <td>1.242641e+00</td>\n",
       "    </tr>\n",
       "    <tr>\n",
       "      <th>std</th>\n",
       "      <td>9.422988e+00</td>\n",
       "      <td>1.622697e+01</td>\n",
       "      <td>6.324297e+03</td>\n",
       "      <td>1.729800e+03</td>\n",
       "      <td>2.618834e+00</td>\n",
       "    </tr>\n",
       "    <tr>\n",
       "      <th>min</th>\n",
       "      <td>0.000000e+00</td>\n",
       "      <td>0.000000e+00</td>\n",
       "      <td>0.000000e+00</td>\n",
       "      <td>-1.000000e+00</td>\n",
       "      <td>-2.200000e+01</td>\n",
       "    </tr>\n",
       "    <tr>\n",
       "      <th>25%</th>\n",
       "      <td>7.000000e+00</td>\n",
       "      <td>2.200000e+01</td>\n",
       "      <td>4.476000e+03</td>\n",
       "      <td>2.490000e+02</td>\n",
       "      <td>1.000000e+00</td>\n",
       "    </tr>\n",
       "    <tr>\n",
       "      <th>50%</th>\n",
       "      <td>1.400000e+01</td>\n",
       "      <td>3.100000e+01</td>\n",
       "      <td>9.343000e+03</td>\n",
       "      <td>3.990000e+02</td>\n",
       "      <td>1.000000e+00</td>\n",
       "    </tr>\n",
       "    <tr>\n",
       "      <th>75%</th>\n",
       "      <td>2.300000e+01</td>\n",
       "      <td>4.700000e+01</td>\n",
       "      <td>1.568400e+04</td>\n",
       "      <td>9.990000e+02</td>\n",
       "      <td>1.000000e+00</td>\n",
       "    </tr>\n",
       "    <tr>\n",
       "      <th>max</th>\n",
       "      <td>3.300000e+01</td>\n",
       "      <td>5.900000e+01</td>\n",
       "      <td>2.216900e+04</td>\n",
       "      <td>3.079800e+05</td>\n",
       "      <td>2.169000e+03</td>\n",
       "    </tr>\n",
       "  </tbody>\n",
       "</table>\n",
       "</div>"
      ],
      "text/plain": [
       "       date_block_num       shop_id       item_id    item_price  item_cnt_day\n",
       "count    2.935849e+06  2.935849e+06  2.935849e+06  2.935849e+06  2.935849e+06\n",
       "mean     1.456991e+01  3.300173e+01  1.019723e+04  8.908532e+02  1.242641e+00\n",
       "std      9.422988e+00  1.622697e+01  6.324297e+03  1.729800e+03  2.618834e+00\n",
       "min      0.000000e+00  0.000000e+00  0.000000e+00 -1.000000e+00 -2.200000e+01\n",
       "25%      7.000000e+00  2.200000e+01  4.476000e+03  2.490000e+02  1.000000e+00\n",
       "50%      1.400000e+01  3.100000e+01  9.343000e+03  3.990000e+02  1.000000e+00\n",
       "75%      2.300000e+01  4.700000e+01  1.568400e+04  9.990000e+02  1.000000e+00\n",
       "max      3.300000e+01  5.900000e+01  2.216900e+04  3.079800e+05  2.169000e+03"
      ]
     },
     "execution_count": 8,
     "metadata": {
      "tags": []
     },
     "output_type": "execute_result"
    }
   ],
   "source": [
    "train.describe()"
   ]
  },
  {
   "cell_type": "markdown",
   "metadata": {
    "colab_type": "text",
    "id": "4n9SP6v1IDwh"
   },
   "source": [
    "<h2>Outliers</h2>"
   ]
  },
  {
   "cell_type": "code",
   "execution_count": 9,
   "metadata": {
    "colab": {
     "base_uri": "https://localhost:8080/",
     "height": 424
    },
    "colab_type": "code",
    "executionInfo": {
     "elapsed": 243804,
     "status": "ok",
     "timestamp": 1576001587494,
     "user": {
      "displayName": "Yuan Hu",
      "photoUrl": "",
      "userId": "14204862805009818583"
     },
     "user_tz": 480
    },
    "id": "vpi0fcC0XykA",
    "outputId": "3ce0f9f9-4fc2-400c-d3e7-eaa119abb44a"
   },
   "outputs": [
    {
     "data": {
      "image/png": "[encoded data removed]",
      "text/plain": [
       "<Figure size 864x432 with 1 Axes>"
      ]
     },
     "metadata": {
      "tags": []
     },
     "output_type": "display_data"
    }
   ],
   "source": [
    "plt.figure(figsize=(12,6))\n",
    "plt.scatter(range(len(train['item_cnt_day'])),train['item_cnt_day'])\n",
    "plt.xlabel(\"day\")\n",
    "plt.ylabel(\"item_cnt_day\")\n",
    "plt.title(\"daily item_cnt\")\n",
    "plt.show()"
   ]
  },
  {
   "cell_type": "code",
   "execution_count": 10,
   "metadata": {
    "colab": {
     "base_uri": "https://localhost:8080/",
     "height": 410
    },
    "colab_type": "code",
    "executionInfo": {
     "elapsed": 244142,
     "status": "ok",
     "timestamp": 1576001587864,
     "user": {
      "displayName": "Yuan Hu",
      "photoUrl": "",
      "userId": "14204862805009818583"
     },
     "user_tz": 480
    },
    "id": "VPmU1d1Q73yM",
    "outputId": "f255b1bf-62c4-44cc-8fef-f52694fd225c"
   },
   "outputs": [
    {
     "data": {
      "image/png": "[encoded data removed]",
      "text/plain": [
       "<Figure size 864x432 with 1 Axes>"
      ]
     },
     "metadata": {
      "tags": []
     },
     "output_type": "display_data"
    }
   ],
   "source": [
    "plt.figure(figsize=(12,6))\n",
    "plt.title(\"daily item_cnt distribution\")\n",
    "plt.boxplot(x=train['item_cnt_day'], vert=False)\n",
    "plt.show()"
   ]
  },
  {
   "cell_type": "code",
   "execution_count": 11,
   "metadata": {
    "colab": {
     "base_uri": "https://localhost:8080/",
     "height": 106
    },
    "colab_type": "code",
    "executionInfo": {
     "elapsed": 244111,
     "status": "ok",
     "timestamp": 1576001587865,
     "user": {
      "displayName": "Yuan Hu",
      "photoUrl": "",
      "userId": "14204862805009818583"
     },
     "user_tz": 480
    },
    "id": "I_RDmTntXykC",
    "outputId": "15c42328-83d8-498c-ac00-e51960e7141d"
   },
   "outputs": [
    {
     "data": {
      "text/html": [
       "<div>\n",
       "<style scoped>\n",
       "    .dataframe tbody tr th:only-of-type {\n",
       "        vertical-align: middle;\n",
       "    }\n",
       "\n",
       "    .dataframe tbody tr th {\n",
       "        vertical-align: top;\n",
       "    }\n",
       "\n",
       "    .dataframe thead th {\n",
       "        text-align: right;\n",
       "    }\n",
       "</style>\n",
       "<table border=\"1\" class=\"dataframe\">\n",
       "  <thead>\n",
       "    <tr style=\"text-align: right;\">\n",
       "      <th></th>\n",
       "      <th>date</th>\n",
       "      <th>date_block_num</th>\n",
       "      <th>shop_id</th>\n",
       "      <th>item_id</th>\n",
       "      <th>item_price</th>\n",
       "      <th>item_cnt_day</th>\n",
       "    </tr>\n",
       "  </thead>\n",
       "  <tbody>\n",
       "    <tr>\n",
       "      <th>2326930</th>\n",
       "      <td>15.01.2015</td>\n",
       "      <td>24</td>\n",
       "      <td>12</td>\n",
       "      <td>20949</td>\n",
       "      <td>4.000000</td>\n",
       "      <td>1000.0</td>\n",
       "    </tr>\n",
       "    <tr>\n",
       "      <th>2909818</th>\n",
       "      <td>28.10.2015</td>\n",
       "      <td>33</td>\n",
       "      <td>12</td>\n",
       "      <td>11373</td>\n",
       "      <td>0.908714</td>\n",
       "      <td>2169.0</td>\n",
       "    </tr>\n",
       "  </tbody>\n",
       "</table>\n",
       "</div>"
      ],
      "text/plain": [
       "               date  date_block_num  shop_id  item_id  item_price  \\\n",
       "2326930  15.01.2015              24       12    20949    4.000000   \n",
       "2909818  28.10.2015              33       12    11373    0.908714   \n",
       "\n",
       "         item_cnt_day  \n",
       "2326930        1000.0  \n",
       "2909818        2169.0  "
      ]
     },
     "execution_count": 11,
     "metadata": {
      "tags": []
     },
     "output_type": "execute_result"
    }
   ],
   "source": [
    "train[train['item_cnt_day'] > 999]"
   ]
  },
  {
   "cell_type": "code",
   "execution_count": 12,
   "metadata": {
    "colab": {
     "base_uri": "https://localhost:8080/",
     "height": 424
    },
    "colab_type": "code",
    "executionInfo": {
     "elapsed": 263583,
     "status": "ok",
     "timestamp": 1576001607357,
     "user": {
      "displayName": "Yuan Hu",
      "photoUrl": "",
      "userId": "14204862805009818583"
     },
     "user_tz": 480
    },
    "id": "Gv3qZUd4XykF",
    "outputId": "08b3b070-d702-41b7-f053-66e54d831d00"
   },
   "outputs": [
    {
     "data": {
      "image/png": "[encoded data removed]",
      "text/plain": [
       "<Figure size 864x432 with 1 Axes>"
      ]
     },
     "metadata": {
      "tags": []
     },
     "output_type": "display_data"
    }
   ],
   "source": [
    "plt.figure(figsize=(12,6))\n",
    "plt.scatter(range(len(train['item_price'])),train['item_price'])\n",
    "plt.xlabel(\"item\")\n",
    "plt.ylabel(\"item price\")\n",
    "plt.title(\"item price\")\n",
    "plt.show()"
   ]
  },
  {
   "cell_type": "code",
   "execution_count": 13,
   "metadata": {
    "colab": {
     "base_uri": "https://localhost:8080/",
     "height": 410
    },
    "colab_type": "code",
    "executionInfo": {
     "elapsed": 263966,
     "status": "ok",
     "timestamp": 1576001607771,
     "user": {
      "displayName": "Yuan Hu",
      "photoUrl": "",
      "userId": "14204862805009818583"
     },
     "user_tz": 480
    },
    "id": "MyQzHSGxDTd5",
    "outputId": "a144fd97-1976-4805-f1cc-9ec81118fc68"
   },
   "outputs": [
    {
     "data": {
      "image/png": "[encoded data removed]",
      "text/plain": [
       "<Figure size 864x432 with 1 Axes>"
      ]
     },
     "metadata": {
      "tags": []
     },
     "output_type": "display_data"
    }
   ],
   "source": [
    "plt.figure(figsize=(12,6))\n",
    "plt.title(\"item price distribution\")\n",
    "plt.boxplot(train['item_price'], vert=False)\n",
    "plt.show()"
   ]
  },
  {
   "cell_type": "code",
   "execution_count": 14,
   "metadata": {
    "colab": {
     "base_uri": "https://localhost:8080/",
     "height": 77
    },
    "colab_type": "code",
    "executionInfo": {
     "elapsed": 263928,
     "status": "ok",
     "timestamp": 1576001607772,
     "user": {
      "displayName": "Yuan Hu",
      "photoUrl": "",
      "userId": "14204862805009818583"
     },
     "user_tz": 480
    },
    "id": "NyRYm5PMXykH",
    "outputId": "58b74e03-59f5-4403-99ef-1b238bdb9232"
   },
   "outputs": [
    {
     "data": {
      "text/html": [
       "<div>\n",
       "<style scoped>\n",
       "    .dataframe tbody tr th:only-of-type {\n",
       "        vertical-align: middle;\n",
       "    }\n",
       "\n",
       "    .dataframe tbody tr th {\n",
       "        vertical-align: top;\n",
       "    }\n",
       "\n",
       "    .dataframe thead th {\n",
       "        text-align: right;\n",
       "    }\n",
       "</style>\n",
       "<table border=\"1\" class=\"dataframe\">\n",
       "  <thead>\n",
       "    <tr style=\"text-align: right;\">\n",
       "      <th></th>\n",
       "      <th>date</th>\n",
       "      <th>date_block_num</th>\n",
       "      <th>shop_id</th>\n",
       "      <th>item_id</th>\n",
       "      <th>item_price</th>\n",
       "      <th>item_cnt_day</th>\n",
       "    </tr>\n",
       "  </thead>\n",
       "  <tbody>\n",
       "    <tr>\n",
       "      <th>484683</th>\n",
       "      <td>15.05.2013</td>\n",
       "      <td>4</td>\n",
       "      <td>32</td>\n",
       "      <td>2973</td>\n",
       "      <td>-1.0</td>\n",
       "      <td>1.0</td>\n",
       "    </tr>\n",
       "  </tbody>\n",
       "</table>\n",
       "</div>"
      ],
      "text/plain": [
       "              date  date_block_num  shop_id  item_id  item_price  item_cnt_day\n",
       "484683  15.05.2013               4       32     2973        -1.0           1.0"
      ]
     },
     "execution_count": 14,
     "metadata": {
      "tags": []
     },
     "output_type": "execute_result"
    }
   ],
   "source": [
    "train[train['item_price'] <= 0]"
   ]
  },
  {
   "cell_type": "markdown",
   "metadata": {
    "colab_type": "text",
    "id": "aa3cOoGDXykK"
   },
   "source": [
    "<p>From the statistical data and the plot, we see that there're some strange data, e.g. item price > 300000, item cnt day = 2169, which should be removed.</p>\n",
    "<p>There's one item with price below zero, which can be a typo. We fill it with the median value of the price for the same item in the same shop.</p>"
   ]
  },
  {
   "cell_type": "code",
   "execution_count": 0,
   "metadata": {
    "colab": {},
    "colab_type": "code",
    "id": "Sh7iV3DIXykL"
   },
   "outputs": [],
   "source": [
    "train = train[train['item_price']<100000]\n",
    "train = train[train['item_cnt_day']<1001]"
   ]
  },
  {
   "cell_type": "code",
   "execution_count": 0,
   "metadata": {
    "colab": {},
    "colab_type": "code",
    "id": "CgrI_TRaXykN"
   },
   "outputs": [],
   "source": [
    "med = train[(train['shop_id'] == 32) & (train['item_id'] == 2973) & (train['date_block_num']==4) & (train['item_price'] > 0)].item_price.median()\n",
    "train.loc[train['item_price'] <= 0, 'item_price'] = med"
   ]
  },
  {
   "cell_type": "code",
   "execution_count": 17,
   "metadata": {
    "colab": {
     "base_uri": "https://localhost:8080/",
     "height": 134
    },
    "colab_type": "code",
    "executionInfo": {
     "elapsed": 263888,
     "status": "ok",
     "timestamp": 1576001607774,
     "user": {
      "displayName": "Yuan Hu",
      "photoUrl": "",
      "userId": "14204862805009818583"
     },
     "user_tz": 480
    },
    "id": "GgrelQOTXykS",
    "outputId": "a4efbde4-1e1f-46dd-b36d-00d695b9c50c"
   },
   "outputs": [
    {
     "data": {
      "text/plain": [
       "date              15.05.2013\n",
       "date_block_num             4\n",
       "shop_id                   32\n",
       "item_id                 2973\n",
       "item_price              1874\n",
       "item_cnt_day               1\n",
       "Name: 484683, dtype: object"
      ]
     },
     "execution_count": 17,
     "metadata": {
      "tags": []
     },
     "output_type": "execute_result"
    }
   ],
   "source": [
    "# check result\n",
    "train.iloc[484683]"
   ]
  },
  {
   "cell_type": "markdown",
   "metadata": {
    "colab_type": "text",
    "id": "Ax9762bEXykU"
   },
   "source": [
    "<h2>Check and remove duplicates</h2>"
   ]
  },
  {
   "cell_type": "code",
   "execution_count": 18,
   "metadata": {
    "colab": {
     "base_uri": "https://localhost:8080/",
     "height": 225
    },
    "colab_type": "code",
    "executionInfo": {
     "elapsed": 264620,
     "status": "ok",
     "timestamp": 1576001608525,
     "user": {
      "displayName": "Yuan Hu",
      "photoUrl": "",
      "userId": "14204862805009818583"
     },
     "user_tz": 480
    },
    "id": "dL_I8CtOXykV",
    "outputId": "826750d4-ee6f-4c4e-8cce-033881247686"
   },
   "outputs": [
    {
     "data": {
      "text/html": [
       "<div>\n",
       "<style scoped>\n",
       "    .dataframe tbody tr th:only-of-type {\n",
       "        vertical-align: middle;\n",
       "    }\n",
       "\n",
       "    .dataframe tbody tr th {\n",
       "        vertical-align: top;\n",
       "    }\n",
       "\n",
       "    .dataframe thead th {\n",
       "        text-align: right;\n",
       "    }\n",
       "</style>\n",
       "<table border=\"1\" class=\"dataframe\">\n",
       "  <thead>\n",
       "    <tr style=\"text-align: right;\">\n",
       "      <th></th>\n",
       "      <th>date</th>\n",
       "      <th>date_block_num</th>\n",
       "      <th>shop_id</th>\n",
       "      <th>item_id</th>\n",
       "      <th>item_price</th>\n",
       "      <th>item_cnt_day</th>\n",
       "    </tr>\n",
       "  </thead>\n",
       "  <tbody>\n",
       "    <tr>\n",
       "      <th>76962</th>\n",
       "      <td>05.01.2013</td>\n",
       "      <td>0</td>\n",
       "      <td>54</td>\n",
       "      <td>20130</td>\n",
       "      <td>149.0</td>\n",
       "      <td>1.0</td>\n",
       "    </tr>\n",
       "    <tr>\n",
       "      <th>1435367</th>\n",
       "      <td>23.02.2014</td>\n",
       "      <td>13</td>\n",
       "      <td>50</td>\n",
       "      <td>3423</td>\n",
       "      <td>999.0</td>\n",
       "      <td>1.0</td>\n",
       "    </tr>\n",
       "    <tr>\n",
       "      <th>1496766</th>\n",
       "      <td>23.03.2014</td>\n",
       "      <td>14</td>\n",
       "      <td>21</td>\n",
       "      <td>3423</td>\n",
       "      <td>999.0</td>\n",
       "      <td>1.0</td>\n",
       "    </tr>\n",
       "    <tr>\n",
       "      <th>1671873</th>\n",
       "      <td>01.05.2014</td>\n",
       "      <td>16</td>\n",
       "      <td>50</td>\n",
       "      <td>3423</td>\n",
       "      <td>999.0</td>\n",
       "      <td>1.0</td>\n",
       "    </tr>\n",
       "    <tr>\n",
       "      <th>1866340</th>\n",
       "      <td>12.07.2014</td>\n",
       "      <td>18</td>\n",
       "      <td>25</td>\n",
       "      <td>3423</td>\n",
       "      <td>999.0</td>\n",
       "      <td>1.0</td>\n",
       "    </tr>\n",
       "    <tr>\n",
       "      <th>2198566</th>\n",
       "      <td>31.12.2014</td>\n",
       "      <td>23</td>\n",
       "      <td>42</td>\n",
       "      <td>21619</td>\n",
       "      <td>499.0</td>\n",
       "      <td>1.0</td>\n",
       "    </tr>\n",
       "  </tbody>\n",
       "</table>\n",
       "</div>"
      ],
      "text/plain": [
       "               date  date_block_num  shop_id  item_id  item_price  \\\n",
       "76962    05.01.2013               0       54    20130       149.0   \n",
       "1435367  23.02.2014              13       50     3423       999.0   \n",
       "1496766  23.03.2014              14       21     3423       999.0   \n",
       "1671873  01.05.2014              16       50     3423       999.0   \n",
       "1866340  12.07.2014              18       25     3423       999.0   \n",
       "2198566  31.12.2014              23       42    21619       499.0   \n",
       "\n",
       "         item_cnt_day  \n",
       "76962             1.0  \n",
       "1435367           1.0  \n",
       "1496766           1.0  \n",
       "1671873           1.0  \n",
       "1866340           1.0  \n",
       "2198566           1.0  "
      ]
     },
     "execution_count": 18,
     "metadata": {
      "tags": []
     },
     "output_type": "execute_result"
    }
   ],
   "source": [
    "train[train.duplicated()]"
   ]
  },
  {
   "cell_type": "code",
   "execution_count": 0,
   "metadata": {
    "colab": {},
    "colab_type": "code",
    "id": "yKeTRYzQXykX"
   },
   "outputs": [],
   "source": [
    "train.drop_duplicates(keep='first', inplace=True)"
   ]
  },
  {
   "cell_type": "markdown",
   "metadata": {
    "colab_type": "text",
    "id": "WfFSp0MEXykb"
   },
   "source": [
    "<h2>Monthly sales trend</h2>"
   ]
  },
  {
   "cell_type": "code",
   "execution_count": 20,
   "metadata": {
    "colab": {
     "base_uri": "https://localhost:8080/",
     "height": 195
    },
    "colab_type": "code",
    "executionInfo": {
     "elapsed": 268507,
     "status": "ok",
     "timestamp": 1576001612470,
     "user": {
      "displayName": "Yuan Hu",
      "photoUrl": "",
      "userId": "14204862805009818583"
     },
     "user_tz": 480
    },
    "id": "R4eFCNhSXykc",
    "outputId": "74d19278-1d62-4c7d-a652-4fd34aa91466"
   },
   "outputs": [
    {
     "data": {
      "text/html": [
       "<div>\n",
       "<style scoped>\n",
       "    .dataframe tbody tr th:only-of-type {\n",
       "        vertical-align: middle;\n",
       "    }\n",
       "\n",
       "    .dataframe tbody tr th {\n",
       "        vertical-align: top;\n",
       "    }\n",
       "\n",
       "    .dataframe thead th {\n",
       "        text-align: right;\n",
       "    }\n",
       "</style>\n",
       "<table border=\"1\" class=\"dataframe\">\n",
       "  <thead>\n",
       "    <tr style=\"text-align: right;\">\n",
       "      <th></th>\n",
       "      <th>date_block_num</th>\n",
       "      <th>item_cnt_month</th>\n",
       "    </tr>\n",
       "  </thead>\n",
       "  <tbody>\n",
       "    <tr>\n",
       "      <th>0</th>\n",
       "      <td>0</td>\n",
       "      <td>131478.0</td>\n",
       "    </tr>\n",
       "    <tr>\n",
       "      <th>1</th>\n",
       "      <td>1</td>\n",
       "      <td>128090.0</td>\n",
       "    </tr>\n",
       "    <tr>\n",
       "      <th>2</th>\n",
       "      <td>2</td>\n",
       "      <td>147142.0</td>\n",
       "    </tr>\n",
       "    <tr>\n",
       "      <th>3</th>\n",
       "      <td>3</td>\n",
       "      <td>107190.0</td>\n",
       "    </tr>\n",
       "    <tr>\n",
       "      <th>4</th>\n",
       "      <td>4</td>\n",
       "      <td>106970.0</td>\n",
       "    </tr>\n",
       "  </tbody>\n",
       "</table>\n",
       "</div>"
      ],
      "text/plain": [
       "   date_block_num  item_cnt_month\n",
       "0               0        131478.0\n",
       "1               1        128090.0\n",
       "2               2        147142.0\n",
       "3               3        107190.0\n",
       "4               4        106970.0"
      ]
     },
     "execution_count": 20,
     "metadata": {
      "tags": []
     },
     "output_type": "execute_result"
    }
   ],
   "source": [
    "train_eda_monthly = train.sort_values('date').groupby(['date_block_num']).agg({'item_cnt_day' : ['sum']})\n",
    "train_eda_monthly.columns = ['item_cnt_month']\n",
    "train_eda_monthly.reset_index(inplace=True)\n",
    "\n",
    "train_eda_monthly.head()"
   ]
  },
  {
   "cell_type": "code",
   "execution_count": 21,
   "metadata": {
    "colab": {
     "base_uri": "https://localhost:8080/",
     "height": 424
    },
    "colab_type": "code",
    "executionInfo": {
     "elapsed": 268492,
     "status": "ok",
     "timestamp": 1576001612471,
     "user": {
      "displayName": "Yuan Hu",
      "photoUrl": "",
      "userId": "14204862805009818583"
     },
     "user_tz": 480
    },
    "id": "FBYbxWSHXykp",
    "outputId": "510ba25e-1688-43d1-bef4-8a16a2b6cabf"
   },
   "outputs": [
    {
     "data": {
      "image/png": "[encoded data removed]",
      "text/plain": [
       "<Figure size 864x432 with 1 Axes>"
      ]
     },
     "metadata": {
      "tags": []
     },
     "output_type": "display_data"
    }
   ],
   "source": [
    "plt.figure(figsize=(12,6))\n",
    "plt.plot(train_eda_monthly['date_block_num'], train_eda_monthly['item_cnt_month'] )  \n",
    "plt.title(\"Monthly Sales Trend \")\n",
    "plt.xlabel('month code')\n",
    "plt.ylabel('sales count')\n",
    "plt.show()"
   ]
  },
  {
   "cell_type": "markdown",
   "metadata": {
    "colab_type": "text",
    "collapsed": true,
    "id": "CaMByQ46Xyks"
   },
   "source": [
    "<p>There're peaks in the curves, which shows the seasonality. So month should be add as a feature.</p>\n",
    "\n",
    "<p>Normal way to extract the month from date can be:</p>\n",
    "<p>train['month'] = train['date'].apply(lambda x: datetime.strptime(x, '%d.%m.%Y').month)</p>\n",
    "<p>In this problem, since 'date_block_num' is given, an easier way to get month can be: train['month] = train['date_block_num] % 12 + 1</p>"
   ]
  },
  {
   "cell_type": "markdown",
   "metadata": {
    "colab_type": "text",
    "id": "sjvwsH-SXykt"
   },
   "source": [
    "<h2>Explore shops, item categories, and items</h2>\n",
    "<p>From google translation, we can see that: </p>\n",
    "<li>The shop names start with a city name.</li>\n",
    "<li>A category name contains type and subtype.</li>"
   ]
  },
  {
   "cell_type": "code",
   "execution_count": 22,
   "metadata": {
    "colab": {
     "base_uri": "https://localhost:8080/",
     "height": 195
    },
    "colab_type": "code",
    "executionInfo": {
     "elapsed": 268471,
     "status": "ok",
     "timestamp": 1576001612472,
     "user": {
      "displayName": "Yuan Hu",
      "photoUrl": "",
      "userId": "14204862805009818583"
     },
     "user_tz": 480
    },
    "id": "LzirvX6EXyku",
    "outputId": "54bb9832-6cb1-4751-c0e6-ecbfe788c90d"
   },
   "outputs": [
    {
     "data": {
      "text/html": [
       "<div>\n",
       "<style scoped>\n",
       "    .dataframe tbody tr th:only-of-type {\n",
       "        vertical-align: middle;\n",
       "    }\n",
       "\n",
       "    .dataframe tbody tr th {\n",
       "        vertical-align: top;\n",
       "    }\n",
       "\n",
       "    .dataframe thead th {\n",
       "        text-align: right;\n",
       "    }\n",
       "</style>\n",
       "<table border=\"1\" class=\"dataframe\">\n",
       "  <thead>\n",
       "    <tr style=\"text-align: right;\">\n",
       "      <th></th>\n",
       "      <th>shop_name</th>\n",
       "      <th>shop_id</th>\n",
       "    </tr>\n",
       "  </thead>\n",
       "  <tbody>\n",
       "    <tr>\n",
       "      <th>0</th>\n",
       "      <td>!Якутск Орджоникидзе, 56 фран</td>\n",
       "      <td>0</td>\n",
       "    </tr>\n",
       "    <tr>\n",
       "      <th>1</th>\n",
       "      <td>!Якутск ТЦ \"Центральный\" фран</td>\n",
       "      <td>1</td>\n",
       "    </tr>\n",
       "    <tr>\n",
       "      <th>2</th>\n",
       "      <td>Адыгея ТЦ \"Мега\"</td>\n",
       "      <td>2</td>\n",
       "    </tr>\n",
       "    <tr>\n",
       "      <th>3</th>\n",
       "      <td>Балашиха ТРК \"Октябрь-Киномир\"</td>\n",
       "      <td>3</td>\n",
       "    </tr>\n",
       "    <tr>\n",
       "      <th>4</th>\n",
       "      <td>Волжский ТЦ \"Волга Молл\"</td>\n",
       "      <td>4</td>\n",
       "    </tr>\n",
       "  </tbody>\n",
       "</table>\n",
       "</div>"
      ],
      "text/plain": [
       "                        shop_name  shop_id\n",
       "0   !Якутск Орджоникидзе, 56 фран        0\n",
       "1   !Якутск ТЦ \"Центральный\" фран        1\n",
       "2                Адыгея ТЦ \"Мега\"        2\n",
       "3  Балашиха ТРК \"Октябрь-Киномир\"        3\n",
       "4        Волжский ТЦ \"Волга Молл\"        4"
      ]
     },
     "execution_count": 22,
     "metadata": {
      "tags": []
     },
     "output_type": "execute_result"
    }
   ],
   "source": [
    "shops.head()"
   ]
  },
  {
   "cell_type": "code",
   "execution_count": 0,
   "metadata": {
    "colab": {},
    "colab_type": "code",
    "id": "7A3Pc3yoXykw"
   },
   "outputs": [],
   "source": [
    "shops.loc[shops.shop_name=='Сергиев Посад ТЦ \"7Я\"','shop_name']='СергиевПосад ТЦ \"7Я\"'\n",
    "shops['city'] = shops['shop_name'].str.split(' ').apply(lambda x: x[0])\n",
    "shops.loc[shops.city=='!Якутск','city'] = 'Якутск'"
   ]
  },
  {
   "cell_type": "code",
   "execution_count": 0,
   "metadata": {
    "colab": {},
    "colab_type": "code",
    "id": "MDbljfb2Xyky"
   },
   "outputs": [],
   "source": [
    "shops['city_id'] = LabelEncoder().fit_transform(shops['city'])"
   ]
  },
  {
   "cell_type": "code",
   "execution_count": 0,
   "metadata": {
    "colab": {},
    "colab_type": "code",
    "id": "lxf6gG2HXykz"
   },
   "outputs": [],
   "source": [
    "shops = shops[['shop_id','city_id']]"
   ]
  },
  {
   "cell_type": "code",
   "execution_count": 26,
   "metadata": {
    "colab": {
     "base_uri": "https://localhost:8080/",
     "height": 195
    },
    "colab_type": "code",
    "executionInfo": {
     "elapsed": 268416,
     "status": "ok",
     "timestamp": 1576001612474,
     "user": {
      "displayName": "Yuan Hu",
      "photoUrl": "",
      "userId": "14204862805009818583"
     },
     "user_tz": 480
    },
    "id": "DC5zvMxUXyk3",
    "outputId": "b81ddcbe-1bf2-4f07-e81d-999323d63f7b"
   },
   "outputs": [
    {
     "data": {
      "text/html": [
       "<div>\n",
       "<style scoped>\n",
       "    .dataframe tbody tr th:only-of-type {\n",
       "        vertical-align: middle;\n",
       "    }\n",
       "\n",
       "    .dataframe tbody tr th {\n",
       "        vertical-align: top;\n",
       "    }\n",
       "\n",
       "    .dataframe thead th {\n",
       "        text-align: right;\n",
       "    }\n",
       "</style>\n",
       "<table border=\"1\" class=\"dataframe\">\n",
       "  <thead>\n",
       "    <tr style=\"text-align: right;\">\n",
       "      <th></th>\n",
       "      <th>shop_id</th>\n",
       "      <th>city_id</th>\n",
       "    </tr>\n",
       "  </thead>\n",
       "  <tbody>\n",
       "    <tr>\n",
       "      <th>0</th>\n",
       "      <td>0</td>\n",
       "      <td>29</td>\n",
       "    </tr>\n",
       "    <tr>\n",
       "      <th>1</th>\n",
       "      <td>1</td>\n",
       "      <td>29</td>\n",
       "    </tr>\n",
       "    <tr>\n",
       "      <th>2</th>\n",
       "      <td>2</td>\n",
       "      <td>0</td>\n",
       "    </tr>\n",
       "    <tr>\n",
       "      <th>3</th>\n",
       "      <td>3</td>\n",
       "      <td>1</td>\n",
       "    </tr>\n",
       "    <tr>\n",
       "      <th>4</th>\n",
       "      <td>4</td>\n",
       "      <td>2</td>\n",
       "    </tr>\n",
       "  </tbody>\n",
       "</table>\n",
       "</div>"
      ],
      "text/plain": [
       "   shop_id  city_id\n",
       "0        0       29\n",
       "1        1       29\n",
       "2        2        0\n",
       "3        3        1\n",
       "4        4        2"
      ]
     },
     "execution_count": 26,
     "metadata": {
      "tags": []
     },
     "output_type": "execute_result"
    }
   ],
   "source": [
    "shops.head()"
   ]
  },
  {
   "cell_type": "code",
   "execution_count": 27,
   "metadata": {
    "colab": {
     "base_uri": "https://localhost:8080/",
     "height": 343
    },
    "colab_type": "code",
    "executionInfo": {
     "elapsed": 268397,
     "status": "ok",
     "timestamp": 1576001612474,
     "user": {
      "displayName": "Yuan Hu",
      "photoUrl": "",
      "userId": "14204862805009818583"
     },
     "user_tz": 480
    },
    "id": "iCXLWVhyXyk6",
    "outputId": "12bfca1e-c41c-4c7c-8054-7d7b0ae1978b"
   },
   "outputs": [
    {
     "data": {
      "text/html": [
       "<div>\n",
       "<style scoped>\n",
       "    .dataframe tbody tr th:only-of-type {\n",
       "        vertical-align: middle;\n",
       "    }\n",
       "\n",
       "    .dataframe tbody tr th {\n",
       "        vertical-align: top;\n",
       "    }\n",
       "\n",
       "    .dataframe thead th {\n",
       "        text-align: right;\n",
       "    }\n",
       "</style>\n",
       "<table border=\"1\" class=\"dataframe\">\n",
       "  <thead>\n",
       "    <tr style=\"text-align: right;\">\n",
       "      <th></th>\n",
       "      <th>item_category_name</th>\n",
       "      <th>item_category_id</th>\n",
       "    </tr>\n",
       "  </thead>\n",
       "  <tbody>\n",
       "    <tr>\n",
       "      <th>0</th>\n",
       "      <td>PC - Гарнитуры/Наушники</td>\n",
       "      <td>0</td>\n",
       "    </tr>\n",
       "    <tr>\n",
       "      <th>1</th>\n",
       "      <td>Аксессуары - PS2</td>\n",
       "      <td>1</td>\n",
       "    </tr>\n",
       "    <tr>\n",
       "      <th>2</th>\n",
       "      <td>Аксессуары - PS3</td>\n",
       "      <td>2</td>\n",
       "    </tr>\n",
       "    <tr>\n",
       "      <th>3</th>\n",
       "      <td>Аксессуары - PS4</td>\n",
       "      <td>3</td>\n",
       "    </tr>\n",
       "    <tr>\n",
       "      <th>4</th>\n",
       "      <td>Аксессуары - PSP</td>\n",
       "      <td>4</td>\n",
       "    </tr>\n",
       "    <tr>\n",
       "      <th>5</th>\n",
       "      <td>Аксессуары - PSVita</td>\n",
       "      <td>5</td>\n",
       "    </tr>\n",
       "    <tr>\n",
       "      <th>6</th>\n",
       "      <td>Аксессуары - XBOX 360</td>\n",
       "      <td>6</td>\n",
       "    </tr>\n",
       "    <tr>\n",
       "      <th>7</th>\n",
       "      <td>Аксессуары - XBOX ONE</td>\n",
       "      <td>7</td>\n",
       "    </tr>\n",
       "    <tr>\n",
       "      <th>8</th>\n",
       "      <td>Билеты (Цифра)</td>\n",
       "      <td>8</td>\n",
       "    </tr>\n",
       "    <tr>\n",
       "      <th>9</th>\n",
       "      <td>Доставка товара</td>\n",
       "      <td>9</td>\n",
       "    </tr>\n",
       "  </tbody>\n",
       "</table>\n",
       "</div>"
      ],
      "text/plain": [
       "        item_category_name  item_category_id\n",
       "0  PC - Гарнитуры/Наушники                 0\n",
       "1         Аксессуары - PS2                 1\n",
       "2         Аксессуары - PS3                 2\n",
       "3         Аксессуары - PS4                 3\n",
       "4         Аксессуары - PSP                 4\n",
       "5      Аксессуары - PSVita                 5\n",
       "6    Аксессуары - XBOX 360                 6\n",
       "7    Аксессуары - XBOX ONE                 7\n",
       "8           Билеты (Цифра)                 8\n",
       "9          Доставка товара                 9"
      ]
     },
     "execution_count": 27,
     "metadata": {
      "tags": []
     },
     "output_type": "execute_result"
    }
   ],
   "source": [
    "item_categories.head(10)"
   ]
  },
  {
   "cell_type": "code",
   "execution_count": 0,
   "metadata": {
    "colab": {},
    "colab_type": "code",
    "id": "HFeEse-RXyk9"
   },
   "outputs": [],
   "source": [
    "item_categories['cats_tmp'] = item_categories['item_category_name'].str.split('-')\n",
    "item_categories['type'] = item_categories['cats_tmp'].apply(lambda x:x[0].strip())"
   ]
  },
  {
   "cell_type": "code",
   "execution_count": 0,
   "metadata": {
    "colab": {},
    "colab_type": "code",
    "id": "IJl0PyukXylA"
   },
   "outputs": [],
   "source": [
    "item_categories['type_id'] = LabelEncoder().fit_transform(item_categories['type'])\n",
    "# if subtype is nan then type\n",
    "item_categories['subtype'] = item_categories['cats_tmp'].apply(lambda x:x[1].strip() if len(x) > 1 else x[0].strip())\n",
    "item_categories['subtype_id'] = LabelEncoder().fit_transform(item_categories['subtype'])\n",
    "\n",
    "item_categories = item_categories[['item_category_id','type_id','subtype_id']]\n",
    "items.drop(columns=['item_name'],inplace=True)"
   ]
  },
  {
   "cell_type": "code",
   "execution_count": 0,
   "metadata": {
    "colab": {},
    "colab_type": "code",
    "id": "h7ewrMTlXylT"
   },
   "outputs": [],
   "source": [
    "train_eda = pd.merge(train, shops, on=['shop_id'], how='left')\n",
    "train_eda = pd.merge(train_eda, items, on=['item_id'], how='left')\n",
    "train_eda = pd.merge(train_eda, item_categories, on=['item_category_id'], how='left')"
   ]
  },
  {
   "cell_type": "code",
   "execution_count": 31,
   "metadata": {
    "colab": {
     "base_uri": "https://localhost:8080/",
     "height": 215
    },
    "colab_type": "code",
    "executionInfo": {
     "elapsed": 269165,
     "status": "ok",
     "timestamp": 1576001613300,
     "user": {
      "displayName": "Yuan Hu",
      "photoUrl": "",
      "userId": "14204862805009818583"
     },
     "user_tz": 480
    },
    "id": "IlT6WiltXylX",
    "outputId": "ec2a0336-89de-4a20-f47d-d7828ecbe2ae",
    "scrolled": true
   },
   "outputs": [
    {
     "data": {
      "text/html": [
       "<div>\n",
       "<style scoped>\n",
       "    .dataframe tbody tr th:only-of-type {\n",
       "        vertical-align: middle;\n",
       "    }\n",
       "\n",
       "    .dataframe tbody tr th {\n",
       "        vertical-align: top;\n",
       "    }\n",
       "\n",
       "    .dataframe thead th {\n",
       "        text-align: right;\n",
       "    }\n",
       "</style>\n",
       "<table border=\"1\" class=\"dataframe\">\n",
       "  <thead>\n",
       "    <tr style=\"text-align: right;\">\n",
       "      <th></th>\n",
       "      <th>date</th>\n",
       "      <th>date_block_num</th>\n",
       "      <th>shop_id</th>\n",
       "      <th>item_id</th>\n",
       "      <th>item_price</th>\n",
       "      <th>item_cnt_day</th>\n",
       "      <th>city_id</th>\n",
       "      <th>item_category_id</th>\n",
       "      <th>type_id</th>\n",
       "      <th>subtype_id</th>\n",
       "    </tr>\n",
       "  </thead>\n",
       "  <tbody>\n",
       "    <tr>\n",
       "      <th>0</th>\n",
       "      <td>02.01.2013</td>\n",
       "      <td>0</td>\n",
       "      <td>59</td>\n",
       "      <td>22154</td>\n",
       "      <td>999.00</td>\n",
       "      <td>1.0</td>\n",
       "      <td>30</td>\n",
       "      <td>37</td>\n",
       "      <td>11</td>\n",
       "      <td>1</td>\n",
       "    </tr>\n",
       "    <tr>\n",
       "      <th>1</th>\n",
       "      <td>03.01.2013</td>\n",
       "      <td>0</td>\n",
       "      <td>25</td>\n",
       "      <td>2552</td>\n",
       "      <td>899.00</td>\n",
       "      <td>1.0</td>\n",
       "      <td>13</td>\n",
       "      <td>58</td>\n",
       "      <td>13</td>\n",
       "      <td>27</td>\n",
       "    </tr>\n",
       "    <tr>\n",
       "      <th>2</th>\n",
       "      <td>05.01.2013</td>\n",
       "      <td>0</td>\n",
       "      <td>25</td>\n",
       "      <td>2552</td>\n",
       "      <td>899.00</td>\n",
       "      <td>-1.0</td>\n",
       "      <td>13</td>\n",
       "      <td>58</td>\n",
       "      <td>13</td>\n",
       "      <td>27</td>\n",
       "    </tr>\n",
       "    <tr>\n",
       "      <th>3</th>\n",
       "      <td>06.01.2013</td>\n",
       "      <td>0</td>\n",
       "      <td>25</td>\n",
       "      <td>2554</td>\n",
       "      <td>1709.05</td>\n",
       "      <td>1.0</td>\n",
       "      <td>13</td>\n",
       "      <td>58</td>\n",
       "      <td>13</td>\n",
       "      <td>27</td>\n",
       "    </tr>\n",
       "    <tr>\n",
       "      <th>4</th>\n",
       "      <td>15.01.2013</td>\n",
       "      <td>0</td>\n",
       "      <td>25</td>\n",
       "      <td>2555</td>\n",
       "      <td>1099.00</td>\n",
       "      <td>1.0</td>\n",
       "      <td>13</td>\n",
       "      <td>56</td>\n",
       "      <td>13</td>\n",
       "      <td>3</td>\n",
       "    </tr>\n",
       "  </tbody>\n",
       "</table>\n",
       "</div>"
      ],
      "text/plain": [
       "         date  date_block_num  shop_id  item_id  item_price  item_cnt_day  \\\n",
       "0  02.01.2013               0       59    22154      999.00           1.0   \n",
       "1  03.01.2013               0       25     2552      899.00           1.0   \n",
       "2  05.01.2013               0       25     2552      899.00          -1.0   \n",
       "3  06.01.2013               0       25     2554     1709.05           1.0   \n",
       "4  15.01.2013               0       25     2555     1099.00           1.0   \n",
       "\n",
       "   city_id  item_category_id  type_id  subtype_id  \n",
       "0       30                37       11           1  \n",
       "1       13                58       13          27  \n",
       "2       13                58       13          27  \n",
       "3       13                58       13          27  \n",
       "4       13                56       13           3  "
      ]
     },
     "execution_count": 31,
     "metadata": {
      "tags": []
     },
     "output_type": "execute_result"
    }
   ],
   "source": [
    "train_eda.head()"
   ]
  },
  {
   "cell_type": "markdown",
   "metadata": {
    "colab_type": "text",
    "id": "KWWYG_g2Xyla"
   },
   "source": [
    "<h2>Sales for each city</h2>\n",
    "<p>Some cities have more sales than others.</p>"
   ]
  },
  {
   "cell_type": "code",
   "execution_count": 32,
   "metadata": {
    "colab": {
     "base_uri": "https://localhost:8080/",
     "height": 195
    },
    "colab_type": "code",
    "executionInfo": {
     "elapsed": 269645,
     "status": "ok",
     "timestamp": 1576001613799,
     "user": {
      "displayName": "Yuan Hu",
      "photoUrl": "",
      "userId": "14204862805009818583"
     },
     "user_tz": 480
    },
    "id": "o1sSPsdhXylb",
    "outputId": "584813ff-fa06-4b7a-f0ba-475372b031cd"
   },
   "outputs": [
    {
     "data": {
      "text/html": [
       "<div>\n",
       "<style scoped>\n",
       "    .dataframe tbody tr th:only-of-type {\n",
       "        vertical-align: middle;\n",
       "    }\n",
       "\n",
       "    .dataframe tbody tr th {\n",
       "        vertical-align: top;\n",
       "    }\n",
       "\n",
       "    .dataframe thead th {\n",
       "        text-align: right;\n",
       "    }\n",
       "</style>\n",
       "<table border=\"1\" class=\"dataframe\">\n",
       "  <thead>\n",
       "    <tr style=\"text-align: right;\">\n",
       "      <th></th>\n",
       "      <th>city_id</th>\n",
       "      <th>item_cnt_city</th>\n",
       "    </tr>\n",
       "  </thead>\n",
       "  <tbody>\n",
       "    <tr>\n",
       "      <th>0</th>\n",
       "      <td>0</td>\n",
       "      <td>30620.0</td>\n",
       "    </tr>\n",
       "    <tr>\n",
       "      <th>1</th>\n",
       "      <td>1</td>\n",
       "      <td>28355.0</td>\n",
       "    </tr>\n",
       "    <tr>\n",
       "      <th>2</th>\n",
       "      <td>2</td>\n",
       "      <td>43942.0</td>\n",
       "    </tr>\n",
       "    <tr>\n",
       "      <th>3</th>\n",
       "      <td>3</td>\n",
       "      <td>42762.0</td>\n",
       "    </tr>\n",
       "    <tr>\n",
       "      <th>4</th>\n",
       "      <td>4</td>\n",
       "      <td>171142.0</td>\n",
       "    </tr>\n",
       "  </tbody>\n",
       "</table>\n",
       "</div>"
      ],
      "text/plain": [
       "   city_id  item_cnt_city\n",
       "0        0        30620.0\n",
       "1        1        28355.0\n",
       "2        2        43942.0\n",
       "3        3        42762.0\n",
       "4        4       171142.0"
      ]
     },
     "execution_count": 32,
     "metadata": {
      "tags": []
     },
     "output_type": "execute_result"
    }
   ],
   "source": [
    "train_eda_city = train_eda.groupby(['city_id']).agg({'item_cnt_day' : ['sum']})\n",
    "train_eda_city.columns = ['item_cnt_city']\n",
    "train_eda_city.reset_index(inplace=True)\n",
    "train_eda_city.head()"
   ]
  },
  {
   "cell_type": "code",
   "execution_count": 33,
   "metadata": {
    "colab": {
     "base_uri": "https://localhost:8080/",
     "height": 50
    },
    "colab_type": "code",
    "executionInfo": {
     "elapsed": 269629,
     "status": "ok",
     "timestamp": 1576001613800,
     "user": {
      "displayName": "Yuan Hu",
      "photoUrl": "",
      "userId": "14204862805009818583"
     },
     "user_tz": 480
    },
    "id": "uJpWriwgXyli",
    "outputId": "a4e07abb-f783-41e0-c641-48a24fb7f7ce"
   },
   "outputs": [
    {
     "data": {
      "text/plain": [
       "array([ 0,  1,  2,  3,  4,  5,  6,  7,  8,  9, 10, 11, 12, 13, 14, 15, 16,\n",
       "       17, 18, 19, 20, 21, 22, 23, 24, 25, 26, 27, 28, 29, 30])"
      ]
     },
     "execution_count": 33,
     "metadata": {
      "tags": []
     },
     "output_type": "execute_result"
    }
   ],
   "source": [
    "train_eda_city['city_id'].unique()"
   ]
  },
  {
   "cell_type": "code",
   "execution_count": 34,
   "metadata": {
    "colab": {
     "base_uri": "https://localhost:8080/",
     "height": 441
    },
    "colab_type": "code",
    "executionInfo": {
     "elapsed": 269612,
     "status": "ok",
     "timestamp": 1576001613801,
     "user": {
      "displayName": "Yuan Hu",
      "photoUrl": "",
      "userId": "14204862805009818583"
     },
     "user_tz": 480
    },
    "id": "GhRMgygtXylk",
    "outputId": "0944ce84-591c-453b-e1c5-6448c102f6b2"
   },
   "outputs": [
    {
     "data": {
      "text/plain": [
       "Text(0, 0.5, 'sales count')"
      ]
     },
     "execution_count": 34,
     "metadata": {
      "tags": []
     },
     "output_type": "execute_result"
    },
    {
     "data": {
      "image/png": "[encoded data removed]",
      "text/plain": [
       "<Figure size 864x432 with 1 Axes>"
      ]
     },
     "metadata": {
      "tags": []
     },
     "output_type": "display_data"
    }
   ],
   "source": [
    "plt.figure(figsize=(12,6))\n",
    "plt.bar(train_eda_city['city_id'], train_eda_city['item_cnt_city'] )  \n",
    "plt.title(\"Sales for each city\")\n",
    "plt.xlabel('cities')\n",
    "plt.ylabel('sales count')"
   ]
  },
  {
   "cell_type": "markdown",
   "metadata": {
    "colab_type": "text",
    "id": "0gaLQfNOIhcS"
   },
   "source": [
    "<h2>Sales for each category</h2>"
   ]
  },
  {
   "cell_type": "code",
   "execution_count": 35,
   "metadata": {
    "colab": {
     "base_uri": "https://localhost:8080/",
     "height": 195
    },
    "colab_type": "code",
    "executionInfo": {
     "elapsed": 269595,
     "status": "ok",
     "timestamp": 1576001613801,
     "user": {
      "displayName": "Yuan Hu",
      "photoUrl": "",
      "userId": "14204862805009818583"
     },
     "user_tz": 480
    },
    "id": "NN0akFVNIuHd",
    "outputId": "208302f7-92b8-41f5-9671-5eb78aeb4a97"
   },
   "outputs": [
    {
     "data": {
      "text/html": [
       "<div>\n",
       "<style scoped>\n",
       "    .dataframe tbody tr th:only-of-type {\n",
       "        vertical-align: middle;\n",
       "    }\n",
       "\n",
       "    .dataframe tbody tr th {\n",
       "        vertical-align: top;\n",
       "    }\n",
       "\n",
       "    .dataframe thead th {\n",
       "        text-align: right;\n",
       "    }\n",
       "</style>\n",
       "<table border=\"1\" class=\"dataframe\">\n",
       "  <thead>\n",
       "    <tr style=\"text-align: right;\">\n",
       "      <th></th>\n",
       "      <th>item_category_id</th>\n",
       "      <th>item_cnt_category</th>\n",
       "    </tr>\n",
       "  </thead>\n",
       "  <tbody>\n",
       "    <tr>\n",
       "      <th>0</th>\n",
       "      <td>0</td>\n",
       "      <td>3.0</td>\n",
       "    </tr>\n",
       "    <tr>\n",
       "      <th>1</th>\n",
       "      <td>1</td>\n",
       "      <td>2.0</td>\n",
       "    </tr>\n",
       "    <tr>\n",
       "      <th>2</th>\n",
       "      <td>2</td>\n",
       "      <td>19597.0</td>\n",
       "    </tr>\n",
       "    <tr>\n",
       "      <th>3</th>\n",
       "      <td>3</td>\n",
       "      <td>29807.0</td>\n",
       "    </tr>\n",
       "    <tr>\n",
       "      <th>4</th>\n",
       "      <td>4</td>\n",
       "      <td>2407.0</td>\n",
       "    </tr>\n",
       "  </tbody>\n",
       "</table>\n",
       "</div>"
      ],
      "text/plain": [
       "   item_category_id  item_cnt_category\n",
       "0                 0                3.0\n",
       "1                 1                2.0\n",
       "2                 2            19597.0\n",
       "3                 3            29807.0\n",
       "4                 4             2407.0"
      ]
     },
     "execution_count": 35,
     "metadata": {
      "tags": []
     },
     "output_type": "execute_result"
    }
   ],
   "source": [
    "train_eda_cat = train_eda.groupby(['item_category_id']).agg({'item_cnt_day' : ['sum']})\n",
    "train_eda_cat.columns = ['item_cnt_category']\n",
    "train_eda_cat.reset_index(inplace=True)\n",
    "train_eda_cat.head()"
   ]
  },
  {
   "cell_type": "code",
   "execution_count": 36,
   "metadata": {
    "colab": {
     "base_uri": "https://localhost:8080/",
     "height": 441
    },
    "colab_type": "code",
    "executionInfo": {
     "elapsed": 269580,
     "status": "ok",
     "timestamp": 1576001613802,
     "user": {
      "displayName": "Yuan Hu",
      "photoUrl": "",
      "userId": "14204862805009818583"
     },
     "user_tz": 480
    },
    "id": "rdRWbOmxJHEC",
    "outputId": "e9cd497a-9f39-4bc2-a549-acb2d84bca05"
   },
   "outputs": [
    {
     "data": {
      "text/plain": [
       "Text(0, 0.5, 'sales count')"
      ]
     },
     "execution_count": 36,
     "metadata": {
      "tags": []
     },
     "output_type": "execute_result"
    },
    {
     "data": {
      "image/png": "[encoded data removed]",
      "text/plain": [
       "<Figure size 864x432 with 1 Axes>"
      ]
     },
     "metadata": {
      "tags": []
     },
     "output_type": "display_data"
    }
   ],
   "source": [
    "plt.figure(figsize=(12,6))\n",
    "plt.bar(train_eda_cat['item_category_id'], train_eda_cat['item_cnt_category'] )  \n",
    "plt.title(\"Sales for each category\")\n",
    "plt.xlabel('category')\n",
    "plt.ylabel('sales count')"
   ]
  },
  {
   "cell_type": "markdown",
   "metadata": {
    "colab_type": "text",
    "id": "OjWw3MzEHLT1"
   },
   "source": [
    "<h2>Sales for each category type</h2>"
   ]
  },
  {
   "cell_type": "code",
   "execution_count": 37,
   "metadata": {
    "colab": {
     "base_uri": "https://localhost:8080/",
     "height": 195
    },
    "colab_type": "code",
    "executionInfo": {
     "elapsed": 269563,
     "status": "ok",
     "timestamp": 1576001613803,
     "user": {
      "displayName": "Yuan Hu",
      "photoUrl": "",
      "userId": "14204862805009818583"
     },
     "user_tz": 480
    },
    "id": "ugOG1VmLXyln",
    "outputId": "358a20b5-5dfb-4c50-c0a5-0c1c3c91ba2b"
   },
   "outputs": [
    {
     "data": {
      "text/html": [
       "<div>\n",
       "<style scoped>\n",
       "    .dataframe tbody tr th:only-of-type {\n",
       "        vertical-align: middle;\n",
       "    }\n",
       "\n",
       "    .dataframe tbody tr th {\n",
       "        vertical-align: top;\n",
       "    }\n",
       "\n",
       "    .dataframe thead th {\n",
       "        text-align: right;\n",
       "    }\n",
       "</style>\n",
       "<table border=\"1\" class=\"dataframe\">\n",
       "  <thead>\n",
       "    <tr style=\"text-align: right;\">\n",
       "      <th></th>\n",
       "      <th>type_id</th>\n",
       "      <th>item_cnt_type</th>\n",
       "    </tr>\n",
       "  </thead>\n",
       "  <tbody>\n",
       "    <tr>\n",
       "      <th>0</th>\n",
       "      <td>0</td>\n",
       "      <td>3.0</td>\n",
       "    </tr>\n",
       "    <tr>\n",
       "      <th>1</th>\n",
       "      <td>1</td>\n",
       "      <td>85056.0</td>\n",
       "    </tr>\n",
       "    <tr>\n",
       "      <th>2</th>\n",
       "      <td>2</td>\n",
       "      <td>13699.0</td>\n",
       "    </tr>\n",
       "    <tr>\n",
       "      <th>3</th>\n",
       "      <td>3</td>\n",
       "      <td>15949.0</td>\n",
       "    </tr>\n",
       "    <tr>\n",
       "      <th>4</th>\n",
       "      <td>4</td>\n",
       "      <td>32155.0</td>\n",
       "    </tr>\n",
       "  </tbody>\n",
       "</table>\n",
       "</div>"
      ],
      "text/plain": [
       "   type_id  item_cnt_type\n",
       "0        0            3.0\n",
       "1        1        85056.0\n",
       "2        2        13699.0\n",
       "3        3        15949.0\n",
       "4        4        32155.0"
      ]
     },
     "execution_count": 37,
     "metadata": {
      "tags": []
     },
     "output_type": "execute_result"
    }
   ],
   "source": [
    "train_eda_type = train_eda.groupby(['type_id']).agg({'item_cnt_day' : ['sum']})\n",
    "train_eda_type.columns = ['item_cnt_type']\n",
    "train_eda_type.reset_index(inplace=True)\n",
    "train_eda_type.head()"
   ]
  },
  {
   "cell_type": "code",
   "execution_count": 38,
   "metadata": {
    "colab": {
     "base_uri": "https://localhost:8080/",
     "height": 441
    },
    "colab_type": "code",
    "executionInfo": {
     "elapsed": 269861,
     "status": "ok",
     "timestamp": 1576001614119,
     "user": {
      "displayName": "Yuan Hu",
      "photoUrl": "",
      "userId": "14204862805009818583"
     },
     "user_tz": 480
    },
    "id": "N8g5PIf2HzCa",
    "outputId": "41b5d1b1-0e83-4432-efec-0f77b6c58830"
   },
   "outputs": [
    {
     "data": {
      "text/plain": [
       "Text(0, 0.5, 'sales count')"
      ]
     },
     "execution_count": 38,
     "metadata": {
      "tags": []
     },
     "output_type": "execute_result"
    },
    {
     "data": {
      "image/png": "[encoded data removed]",
      "text/plain": [
       "<Figure size 864x432 with 1 Axes>"
      ]
     },
     "metadata": {
      "tags": []
     },
     "output_type": "display_data"
    }
   ],
   "source": [
    "plt.figure(figsize=(12,6))\n",
    "plt.bar(train_eda_type['type_id'], train_eda_type['item_cnt_type'] )  \n",
    "plt.title(\"Sales for each category type\")\n",
    "plt.xlabel('types')\n",
    "plt.ylabel('sales count')"
   ]
  },
  {
   "cell_type": "markdown",
   "metadata": {
    "colab_type": "text",
    "collapsed": true,
    "id": "ys9im2MIXyl-"
   },
   "source": [
    "<h2>Explore Test set</h2>"
   ]
  },
  {
   "cell_type": "code",
   "execution_count": 39,
   "metadata": {
    "colab": {
     "base_uri": "https://localhost:8080/",
     "height": 195
    },
    "colab_type": "code",
    "executionInfo": {
     "elapsed": 269844,
     "status": "ok",
     "timestamp": 1576001614120,
     "user": {
      "displayName": "Yuan Hu",
      "photoUrl": "",
      "userId": "14204862805009818583"
     },
     "user_tz": 480
    },
    "id": "iBOhIMHLXyl_",
    "outputId": "c4a3bad1-8004-4bcb-9761-bd7ccdd03952"
   },
   "outputs": [
    {
     "data": {
      "text/html": [
       "<div>\n",
       "<style scoped>\n",
       "    .dataframe tbody tr th:only-of-type {\n",
       "        vertical-align: middle;\n",
       "    }\n",
       "\n",
       "    .dataframe tbody tr th {\n",
       "        vertical-align: top;\n",
       "    }\n",
       "\n",
       "    .dataframe thead th {\n",
       "        text-align: right;\n",
       "    }\n",
       "</style>\n",
       "<table border=\"1\" class=\"dataframe\">\n",
       "  <thead>\n",
       "    <tr style=\"text-align: right;\">\n",
       "      <th></th>\n",
       "      <th>ID</th>\n",
       "      <th>shop_id</th>\n",
       "      <th>item_id</th>\n",
       "    </tr>\n",
       "  </thead>\n",
       "  <tbody>\n",
       "    <tr>\n",
       "      <th>0</th>\n",
       "      <td>0</td>\n",
       "      <td>5</td>\n",
       "      <td>5037</td>\n",
       "    </tr>\n",
       "    <tr>\n",
       "      <th>1</th>\n",
       "      <td>1</td>\n",
       "      <td>5</td>\n",
       "      <td>5320</td>\n",
       "    </tr>\n",
       "    <tr>\n",
       "      <th>2</th>\n",
       "      <td>2</td>\n",
       "      <td>5</td>\n",
       "      <td>5233</td>\n",
       "    </tr>\n",
       "    <tr>\n",
       "      <th>3</th>\n",
       "      <td>3</td>\n",
       "      <td>5</td>\n",
       "      <td>5232</td>\n",
       "    </tr>\n",
       "    <tr>\n",
       "      <th>4</th>\n",
       "      <td>4</td>\n",
       "      <td>5</td>\n",
       "      <td>5268</td>\n",
       "    </tr>\n",
       "  </tbody>\n",
       "</table>\n",
       "</div>"
      ],
      "text/plain": [
       "   ID  shop_id  item_id\n",
       "0   0        5     5037\n",
       "1   1        5     5320\n",
       "2   2        5     5233\n",
       "3   3        5     5232\n",
       "4   4        5     5268"
      ]
     },
     "execution_count": 39,
     "metadata": {
      "tags": []
     },
     "output_type": "execute_result"
    }
   ],
   "source": [
    "test.head()"
   ]
  },
  {
   "cell_type": "code",
   "execution_count": 40,
   "metadata": {
    "colab": {
     "base_uri": "https://localhost:8080/",
     "height": 151
    },
    "colab_type": "code",
    "executionInfo": {
     "elapsed": 269832,
     "status": "ok",
     "timestamp": 1576001614121,
     "user": {
      "displayName": "Yuan Hu",
      "photoUrl": "",
      "userId": "14204862805009818583"
     },
     "user_tz": 480
    },
    "id": "AyHeRW_2XymD",
    "outputId": "449f9e74-733b-4dcb-a7fb-9cdedec41b55"
   },
   "outputs": [
    {
     "name": "stdout",
     "output_type": "stream",
     "text": [
      "<class 'pandas.core.frame.DataFrame'>\n",
      "RangeIndex: 214200 entries, 0 to 214199\n",
      "Data columns (total 3 columns):\n",
      "ID         214200 non-null int64\n",
      "shop_id    214200 non-null int64\n",
      "item_id    214200 non-null int64\n",
      "dtypes: int64(3)\n",
      "memory usage: 4.9 MB\n"
     ]
    }
   ],
   "source": [
    "test.info()"
   ]
  },
  {
   "cell_type": "code",
   "execution_count": 41,
   "metadata": {
    "colab": {
     "base_uri": "https://localhost:8080/",
     "height": 84
    },
    "colab_type": "code",
    "executionInfo": {
     "elapsed": 270647,
     "status": "ok",
     "timestamp": 1576001614954,
     "user": {
      "displayName": "Yuan Hu",
      "photoUrl": "",
      "userId": "14204862805009818583"
     },
     "user_tz": 480
    },
    "id": "BLmDVG90XymF",
    "outputId": "3f6ad863-6909-4f87-c960-ad89ea230cfb"
   },
   "outputs": [
    {
     "name": "stdout",
     "output_type": "stream",
     "text": [
      "Total number of unique shops in test set:  42\n",
      "Total number of unique items in test set:  5100\n",
      "Total number of combinations of shops and items:  214200\n",
      "Number of new items in test set compared to train set:  363\n"
     ]
    }
   ],
   "source": [
    "print(\"Total number of unique shops in test set: \", len(test['shop_id'].unique()))\n",
    "print(\"Total number of unique items in test set: \", len(test['item_id'].unique()))\n",
    "print(\"Total number of combinations of shops and items: \", len(test['shop_id'].unique()) * len(test['item_id'].unique()))\n",
    "print(\"Number of new items in test set compared to train set: \", len(set(test['item_id'])) - len((set(test['item_id'])).intersection(set(train['item_id']))))"
   ]
  },
  {
   "cell_type": "markdown",
   "metadata": {
    "colab_type": "text",
    "collapsed": true,
    "id": "ZM6sdEvWXymK"
   },
   "source": [
    "<h2>Extend Train set</h2>\n",
    "<p>Train set contains only pairs which were sold or returned in the past, but not the all combinations of the shops and items.</p>\n",
    "<p>To get the real behavior of the sales day, we need to calculate monthly sales and extend it with zero sales for each unique pair within the month.</p>"
   ]
  },
  {
   "cell_type": "code",
   "execution_count": 0,
   "metadata": {
    "colab": {},
    "colab_type": "code",
    "id": "Hcg7sQmoXymL"
   },
   "outputs": [],
   "source": [
    "train_extend = []\n",
    "cols = ['date_block_num','shop_id','item_id']\n",
    "for i in range(34):\n",
    "    sales = train[train['date_block_num']==i]\n",
    "    # get all combinations of i, shop_id and item_id in month i. Then append it to train_extend\n",
    "    train_extend.append(np.array(list(product([i], sales['shop_id'].unique(), sales['item_id'].unique())), dtype='int16'))"
   ]
  },
  {
   "cell_type": "code",
   "execution_count": 43,
   "metadata": {
    "colab": {
     "base_uri": "https://localhost:8080/",
     "height": 151
    },
    "colab_type": "code",
    "executionInfo": {
     "elapsed": 276950,
     "status": "ok",
     "timestamp": 1576001621285,
     "user": {
      "displayName": "Yuan Hu",
      "photoUrl": "",
      "userId": "14204862805009818583"
     },
     "user_tz": 480
    },
    "id": "M9L1euURXymN",
    "outputId": "d16d8e7c-28a0-4829-adf4-425c2b8be1e0"
   },
   "outputs": [
    {
     "name": "stdout",
     "output_type": "stream",
     "text": [
      "<class 'pandas.core.frame.DataFrame'>\n",
      "RangeIndex: 10913804 entries, 0 to 10913803\n",
      "Data columns (total 3 columns):\n",
      "date_block_num    int16\n",
      "shop_id           int16\n",
      "item_id           int16\n",
      "dtypes: int16(3)\n",
      "memory usage: 62.4 MB\n"
     ]
    }
   ],
   "source": [
    "train_extend = pd.DataFrame(np.vstack(train_extend), columns=cols)\n",
    "train_extend.info()"
   ]
  },
  {
   "cell_type": "code",
   "execution_count": 0,
   "metadata": {
    "colab": {},
    "colab_type": "code",
    "id": "nwyaGRXUXymQ"
   },
   "outputs": [],
   "source": [
    "# change data type to reduce memory usage\n",
    "train_extend['date_block_num'] = train_extend['date_block_num'].astype(np.int8)\n",
    "train_extend['shop_id'] = train_extend['shop_id'].astype(np.int8)\n",
    "\n",
    "train_extend.sort_values(cols,inplace=True)"
   ]
  },
  {
   "cell_type": "markdown",
   "metadata": {
    "colab_type": "text",
    "id": "L-P3hsSyOfAJ"
   },
   "source": [
    "<p>Add date_block_num to test set and append test set to the train_extend.</p>"
   ]
  },
  {
   "cell_type": "code",
   "execution_count": 0,
   "metadata": {
    "colab": {},
    "colab_type": "code",
    "id": "PpQ3oMk2Oklm"
   },
   "outputs": [],
   "source": [
    "test['date_block_num'] = 34\n",
    "# change data type to reduce memory usage\n",
    "test['date_block_num'] = test['date_block_num'].astype(np.int8)\n",
    "test['shop_id'] = test['shop_id'].astype(np.int8)\n",
    "test['item_id'] = test['item_id'].astype(np.int16)\n",
    "\n",
    "train_extend = pd.concat([train_extend, test], ignore_index=True, sort=False, keys=cols)\n",
    "train_extend.fillna(0,inplace=True) # month 34"
   ]
  },
  {
   "cell_type": "markdown",
   "metadata": {
    "colab_type": "text",
    "id": "8bWcypsEPD-g"
   },
   "source": [
    "<p>Add features from shops/items/items_categories to train_extend</p>"
   ]
  },
  {
   "cell_type": "code",
   "execution_count": 0,
   "metadata": {
    "colab": {},
    "colab_type": "code",
    "id": "hbGpR3JMPHU4"
   },
   "outputs": [],
   "source": [
    "train_extend = pd.merge(train_extend, shops, on=['shop_id'],how='left')\n",
    "train_extend = pd.merge(train_extend, items, on=['item_id'],how='left')\n",
    "train_extend = pd.merge(train_extend, item_categories, on=['item_category_id'],how='left')\n",
    "\n",
    "# change data type to reduce memory usage\n",
    "train_extend['city_id'] = train_extend['city_id'].astype(np.int8)\n",
    "train_extend['item_category_id'] = train_extend['item_category_id'].astype(np.int8)\n",
    "train_extend['type_id'] = train_extend['type_id'].astype(np.int8)\n",
    "train_extend['subtype_id'] = train_extend['subtype_id'].astype(np.int8)"
   ]
  },
  {
   "cell_type": "code",
   "execution_count": 47,
   "metadata": {
    "colab": {
     "base_uri": "https://localhost:8080/",
     "height": 235
    },
    "colab_type": "code",
    "executionInfo": {
     "elapsed": 284692,
     "status": "ok",
     "timestamp": 1576001629070,
     "user": {
      "displayName": "Yuan Hu",
      "photoUrl": "",
      "userId": "14204862805009818583"
     },
     "user_tz": 480
    },
    "id": "VUtHTE4LOygz",
    "outputId": "6be175a8-3ddc-42e8-b1c2-2e9e282ce46f"
   },
   "outputs": [
    {
     "name": "stdout",
     "output_type": "stream",
     "text": [
      "<class 'pandas.core.frame.DataFrame'>\n",
      "Int64Index: 11128004 entries, 0 to 11128003\n",
      "Data columns (total 8 columns):\n",
      "date_block_num      int8\n",
      "shop_id             int8\n",
      "item_id             int16\n",
      "ID                  float64\n",
      "city_id             int8\n",
      "item_category_id    int8\n",
      "type_id             int8\n",
      "subtype_id          int8\n",
      "dtypes: float64(1), int16(1), int8(6)\n",
      "memory usage: 254.7 MB\n"
     ]
    }
   ],
   "source": [
    "train_extend.info()"
   ]
  },
  {
   "cell_type": "code",
   "execution_count": 48,
   "metadata": {
    "colab": {
     "base_uri": "https://localhost:8080/",
     "height": 215
    },
    "colab_type": "code",
    "executionInfo": {
     "elapsed": 284678,
     "status": "ok",
     "timestamp": 1576001629071,
     "user": {
      "displayName": "Yuan Hu",
      "photoUrl": "",
      "userId": "14204862805009818583"
     },
     "user_tz": 480
    },
    "id": "jZ8OIuUSQx2t",
    "outputId": "e1a69375-925e-444e-ae87-4065feceac78"
   },
   "outputs": [
    {
     "data": {
      "text/html": [
       "<div>\n",
       "<style scoped>\n",
       "    .dataframe tbody tr th:only-of-type {\n",
       "        vertical-align: middle;\n",
       "    }\n",
       "\n",
       "    .dataframe tbody tr th {\n",
       "        vertical-align: top;\n",
       "    }\n",
       "\n",
       "    .dataframe thead th {\n",
       "        text-align: right;\n",
       "    }\n",
       "</style>\n",
       "<table border=\"1\" class=\"dataframe\">\n",
       "  <thead>\n",
       "    <tr style=\"text-align: right;\">\n",
       "      <th></th>\n",
       "      <th>date_block_num</th>\n",
       "      <th>shop_id</th>\n",
       "      <th>item_id</th>\n",
       "      <th>ID</th>\n",
       "      <th>city_id</th>\n",
       "      <th>item_category_id</th>\n",
       "      <th>type_id</th>\n",
       "      <th>subtype_id</th>\n",
       "    </tr>\n",
       "  </thead>\n",
       "  <tbody>\n",
       "    <tr>\n",
       "      <th>0</th>\n",
       "      <td>0</td>\n",
       "      <td>0</td>\n",
       "      <td>19</td>\n",
       "      <td>0.0</td>\n",
       "      <td>29</td>\n",
       "      <td>40</td>\n",
       "      <td>11</td>\n",
       "      <td>4</td>\n",
       "    </tr>\n",
       "    <tr>\n",
       "      <th>1</th>\n",
       "      <td>0</td>\n",
       "      <td>0</td>\n",
       "      <td>27</td>\n",
       "      <td>0.0</td>\n",
       "      <td>29</td>\n",
       "      <td>19</td>\n",
       "      <td>5</td>\n",
       "      <td>10</td>\n",
       "    </tr>\n",
       "    <tr>\n",
       "      <th>2</th>\n",
       "      <td>0</td>\n",
       "      <td>0</td>\n",
       "      <td>28</td>\n",
       "      <td>0.0</td>\n",
       "      <td>29</td>\n",
       "      <td>30</td>\n",
       "      <td>8</td>\n",
       "      <td>55</td>\n",
       "    </tr>\n",
       "    <tr>\n",
       "      <th>3</th>\n",
       "      <td>0</td>\n",
       "      <td>0</td>\n",
       "      <td>29</td>\n",
       "      <td>0.0</td>\n",
       "      <td>29</td>\n",
       "      <td>23</td>\n",
       "      <td>5</td>\n",
       "      <td>16</td>\n",
       "    </tr>\n",
       "    <tr>\n",
       "      <th>4</th>\n",
       "      <td>0</td>\n",
       "      <td>0</td>\n",
       "      <td>32</td>\n",
       "      <td>0.0</td>\n",
       "      <td>29</td>\n",
       "      <td>40</td>\n",
       "      <td>11</td>\n",
       "      <td>4</td>\n",
       "    </tr>\n",
       "  </tbody>\n",
       "</table>\n",
       "</div>"
      ],
      "text/plain": [
       "   date_block_num  shop_id  item_id   ID  city_id  item_category_id  type_id  \\\n",
       "0               0        0       19  0.0       29                40       11   \n",
       "1               0        0       27  0.0       29                19        5   \n",
       "2               0        0       28  0.0       29                30        8   \n",
       "3               0        0       29  0.0       29                23        5   \n",
       "4               0        0       32  0.0       29                40       11   \n",
       "\n",
       "   subtype_id  \n",
       "0           4  \n",
       "1          10  \n",
       "2          55  \n",
       "3          16  \n",
       "4           4  "
      ]
     },
     "execution_count": 48,
     "metadata": {
      "tags": []
     },
     "output_type": "execute_result"
    }
   ],
   "source": [
    "train_extend.head()"
   ]
  },
  {
   "cell_type": "markdown",
   "metadata": {
    "colab_type": "text",
    "id": "wNmqy7w0XymK"
   },
   "source": [
    "<h1>Feature Engineering</h1>"
   ]
  },
  {
   "cell_type": "markdown",
   "metadata": {
    "colab_type": "text",
    "id": "nk5B8zLwmEi9"
   },
   "source": [
    "<h2>Month and day</h2>"
   ]
  },
  {
   "cell_type": "code",
   "execution_count": 0,
   "metadata": {
    "colab": {},
    "colab_type": "code",
    "id": "Wc-Ip32OmC-3"
   },
   "outputs": [],
   "source": [
    "train_extend['month'] = train_extend['date_block_num'] % 12\n",
    "\n",
    "days = pd.Series([31,28,31,30,31,30,31,31,30,31,30,31])\n",
    "train_extend['days'] = train_extend['month'].map(days).astype(np.int8)"
   ]
  },
  {
   "cell_type": "markdown",
   "metadata": {
    "colab_type": "text",
    "id": "v_C0PPi4kyg9"
   },
   "source": [
    "<h2>Total monthly sales count for each item in each shop</h2>"
   ]
  },
  {
   "cell_type": "code",
   "execution_count": 0,
   "metadata": {
    "colab": {},
    "colab_type": "code",
    "id": "7MEEf8nBXymT"
   },
   "outputs": [],
   "source": [
    "# Total monthly sales count for each item in each shop\n",
    "item_cnt_month_agg = train.groupby(['date_block_num','shop_id','item_id']).agg({'item_cnt_day':['sum']})\n",
    "item_cnt_month_agg.columns = ['item_cnt_month']\n",
    "item_cnt_month_agg.reset_index(inplace=True)"
   ]
  },
  {
   "cell_type": "code",
   "execution_count": 0,
   "metadata": {
    "colab": {},
    "colab_type": "code",
    "id": "UiQ1D8k5XymX"
   },
   "outputs": [],
   "source": [
    "train_extend = pd.merge(train_extend, item_cnt_month_agg, on=cols, how='left')"
   ]
  },
  {
   "cell_type": "code",
   "execution_count": 0,
   "metadata": {
    "colab": {},
    "colab_type": "code",
    "id": "zfxOPsQwXymZ"
   },
   "outputs": [],
   "source": [
    "train_extend['item_cnt_month']=(train_extend['item_cnt_month']\n",
    "                          .fillna(0)\n",
    "                          .clip(0,20)\n",
    "                          .astype(np.float16))"
   ]
  },
  {
   "cell_type": "markdown",
   "metadata": {
    "colab_type": "text",
    "id": "OJMqIKiUXymu"
   },
   "source": [
    "<h2>Statistical features</h2>"
   ]
  },
  {
   "cell_type": "markdown",
   "metadata": {
    "colab_type": "text",
    "id": "a0Xv_l32Xymv"
   },
   "source": [
    "<p>Monthly average sale</p>"
   ]
  },
  {
   "cell_type": "code",
   "execution_count": 0,
   "metadata": {
    "colab": {},
    "colab_type": "code",
    "id": "TISB0dehXymv"
   },
   "outputs": [],
   "source": [
    "temp = train_extend.groupby(['date_block_num']).agg({'item_cnt_month':['mean']})\n",
    "temp.columns = ['item_cnt_month_avg']\n",
    "temp.reset_index(inplace=True)"
   ]
  },
  {
   "cell_type": "code",
   "execution_count": 0,
   "metadata": {
    "colab": {},
    "colab_type": "code",
    "id": "UFaAqb8qXymw"
   },
   "outputs": [],
   "source": [
    "train_extend = pd.merge(train_extend, temp, on=['date_block_num'], how='left')"
   ]
  },
  {
   "cell_type": "code",
   "execution_count": 0,
   "metadata": {
    "colab": {},
    "colab_type": "code",
    "id": "ahc5pJEuXymx"
   },
   "outputs": [],
   "source": [
    "train_extend['item_cnt_month_avg'] = train_extend['item_cnt_month_avg'].astype(np.float16)"
   ]
  },
  {
   "cell_type": "markdown",
   "metadata": {
    "colab_type": "text",
    "collapsed": true,
    "id": "QFlYYEXWXym5"
   },
   "source": [
    "<p>Monthly average sale for each item</p>"
   ]
  },
  {
   "cell_type": "code",
   "execution_count": 0,
   "metadata": {
    "colab": {},
    "colab_type": "code",
    "id": "QOZ7yjhtXym5"
   },
   "outputs": [],
   "source": [
    "temp = train_extend.groupby(['date_block_num','item_id']).agg({'item_cnt_month':['mean']})\n",
    "temp.columns=['item_cnt_month_avg_item']\n",
    "temp.reset_index(inplace=True)"
   ]
  },
  {
   "cell_type": "code",
   "execution_count": 0,
   "metadata": {
    "colab": {},
    "colab_type": "code",
    "id": "Whnkl5T_Xym7"
   },
   "outputs": [],
   "source": [
    "train_extend = pd.merge(train_extend, temp, on=['date_block_num','item_id'],how='left')"
   ]
  },
  {
   "cell_type": "code",
   "execution_count": 0,
   "metadata": {
    "colab": {},
    "colab_type": "code",
    "id": "bZ_RCnr9Xym8"
   },
   "outputs": [],
   "source": [
    "train_extend['item_cnt_month_avg_item'] = train_extend['item_cnt_month_avg_item'].astype(np.float16)"
   ]
  },
  {
   "cell_type": "markdown",
   "metadata": {
    "colab_type": "text",
    "id": "Wp71uN4lXynA"
   },
   "source": [
    "<p>Monthly average sale for each shop</p>"
   ]
  },
  {
   "cell_type": "code",
   "execution_count": 0,
   "metadata": {
    "colab": {},
    "colab_type": "code",
    "id": "OLmUX8e7XynA"
   },
   "outputs": [],
   "source": [
    "temp = train_extend.groupby(['date_block_num','shop_id']).agg({'item_cnt_month':['mean']})\n",
    "temp.columns = ['item_cnt_month_avg_shop']\n",
    "temp.reset_index(inplace=True)"
   ]
  },
  {
   "cell_type": "code",
   "execution_count": 0,
   "metadata": {
    "colab": {},
    "colab_type": "code",
    "id": "C5z2SRRoXynD"
   },
   "outputs": [],
   "source": [
    "train_extend = pd.merge(train_extend, temp, on=['date_block_num','shop_id'], how='left')"
   ]
  },
  {
   "cell_type": "code",
   "execution_count": 0,
   "metadata": {
    "colab": {},
    "colab_type": "code",
    "id": "iCvaPcV3XynE"
   },
   "outputs": [],
   "source": [
    "train_extend['item_cnt_month_avg_shop'] = train_extend['item_cnt_month_avg_shop'].astype(np.float16)"
   ]
  },
  {
   "cell_type": "markdown",
   "metadata": {
    "colab_type": "text",
    "id": "PagwrmvNXynI"
   },
   "source": [
    "<p>Monthly average sale for each category</p>"
   ]
  },
  {
   "cell_type": "code",
   "execution_count": 0,
   "metadata": {
    "colab": {},
    "colab_type": "code",
    "id": "Naeol7xFXynI"
   },
   "outputs": [],
   "source": [
    "temp = train_extend.groupby(['date_block_num','item_category_id']).agg({'item_cnt_month':['mean']})\n",
    "temp.columns=['item_cnt_month_avg_cat']\n",
    "temp.reset_index(inplace=True)"
   ]
  },
  {
   "cell_type": "code",
   "execution_count": 0,
   "metadata": {
    "colab": {},
    "colab_type": "code",
    "id": "JAHZcBqoXynJ"
   },
   "outputs": [],
   "source": [
    "train_extend = pd.merge(train_extend, temp, on=['date_block_num','item_category_id'], how='left')"
   ]
  },
  {
   "cell_type": "code",
   "execution_count": 0,
   "metadata": {
    "colab": {},
    "colab_type": "code",
    "id": "UBn9rdGsXynK"
   },
   "outputs": [],
   "source": [
    "train_extend['item_cnt_month_avg_cat'] = train_extend['item_cnt_month_avg_cat'].astype(np.float16)"
   ]
  },
  {
   "cell_type": "markdown",
   "metadata": {
    "colab_type": "text",
    "id": "wDYt9p4OXynN"
   },
   "source": [
    "<p>Monthly average sale for each category in each shop</p>"
   ]
  },
  {
   "cell_type": "code",
   "execution_count": 0,
   "metadata": {
    "colab": {},
    "colab_type": "code",
    "id": "Zfa_BX8JXynO"
   },
   "outputs": [],
   "source": [
    "temp = train_extend.groupby(['date_block_num','shop_id','item_category_id']).agg({'item_cnt_month':['mean']})\n",
    "temp.columns=['item_cnt_month_avg_cat_shop']\n",
    "temp.reset_index(inplace=True)"
   ]
  },
  {
   "cell_type": "code",
   "execution_count": 0,
   "metadata": {
    "colab": {},
    "colab_type": "code",
    "id": "si0gzJrAXynP"
   },
   "outputs": [],
   "source": [
    "train_extend = pd.merge(train_extend, temp, on=['date_block_num','shop_id','item_category_id'], how='left')"
   ]
  },
  {
   "cell_type": "code",
   "execution_count": 0,
   "metadata": {
    "colab": {},
    "colab_type": "code",
    "id": "8TiIaZIIXynQ"
   },
   "outputs": [],
   "source": [
    "train_extend['item_cnt_month_avg_cat_shop'] = train_extend['item_cnt_month_avg_cat_shop'].astype(np.float16)"
   ]
  },
  {
   "cell_type": "markdown",
   "metadata": {
    "colab_type": "text",
    "id": "cIrYuLPPXyne"
   },
   "source": [
    "<p>Monthly average sale for each city</p>"
   ]
  },
  {
   "cell_type": "code",
   "execution_count": 0,
   "metadata": {
    "colab": {},
    "colab_type": "code",
    "id": "XkdMTDjqXynf"
   },
   "outputs": [],
   "source": [
    "temp = train_extend.groupby(['date_block_num','city_id']).agg({'item_cnt_month':['mean']})\n",
    "temp.columns = ['item_cnt_month_avg_city']\n",
    "temp.reset_index(inplace=True)"
   ]
  },
  {
   "cell_type": "code",
   "execution_count": 0,
   "metadata": {
    "colab": {},
    "colab_type": "code",
    "id": "0hOUIcPmXynf"
   },
   "outputs": [],
   "source": [
    "train_extend = pd.merge(train_extend, temp, on=['date_block_num','city_id'], how='left')"
   ]
  },
  {
   "cell_type": "code",
   "execution_count": 0,
   "metadata": {
    "colab": {},
    "colab_type": "code",
    "id": "cX220EsdXyng"
   },
   "outputs": [],
   "source": [
    "train_extend['item_cnt_month_avg_city'] = train_extend['item_cnt_month_avg_city'].astype(np.float16)"
   ]
  },
  {
   "cell_type": "markdown",
   "metadata": {
    "colab_type": "text",
    "id": "iYQm4CEsXynk"
   },
   "source": [
    "<p>Monthly average sale for each item in each city</p>"
   ]
  },
  {
   "cell_type": "code",
   "execution_count": 0,
   "metadata": {
    "colab": {},
    "colab_type": "code",
    "id": "plxvnxjWXynk"
   },
   "outputs": [],
   "source": [
    "temp = train_extend.groupby(['date_block_num','item_id','city_id']).agg({'item_cnt_month':['mean']})\n",
    "temp.columns = ['item_cnt_month_avg_item_city']\n",
    "temp.reset_index(inplace=True)"
   ]
  },
  {
   "cell_type": "code",
   "execution_count": 0,
   "metadata": {
    "colab": {},
    "colab_type": "code",
    "id": "mVmlqpWyXynm"
   },
   "outputs": [],
   "source": [
    "train_extend = pd.merge(train_extend, temp, on=['date_block_num','item_id','city_id'], how='left')"
   ]
  },
  {
   "cell_type": "code",
   "execution_count": 0,
   "metadata": {
    "colab": {},
    "colab_type": "code",
    "id": "BCv6QOJpXynm"
   },
   "outputs": [],
   "source": [
    "train_extend['item_cnt_month_avg_item_city'] = train_extend['item_cnt_month_avg_item_city'].astype(np.float16)"
   ]
  },
  {
   "cell_type": "markdown",
   "metadata": {
    "colab_type": "text",
    "id": "JjwKnQzkXyn2"
   },
   "source": [
    "<h2>Trend features</h2>"
   ]
  },
  {
   "cell_type": "markdown",
   "metadata": {
    "colab_type": "text",
    "id": "yqaeYmXMlUt8"
   },
   "source": [
    "Trend of item sales count"
   ]
  },
  {
   "cell_type": "code",
   "execution_count": 0,
   "metadata": {
    "colab": {},
    "colab_type": "code",
    "id": "ZuI6U1palcEV"
   },
   "outputs": [],
   "source": [
    "def lag_feature(df,lags,col):\n",
    "    tmp = df[['date_block_num','shop_id','item_id',col]]\n",
    "    for i in lags:\n",
    "        shifted = tmp.copy()\n",
    "        shifted.columns = ['date_block_num', 'shop_id', 'item_id', col+'_lag_'+str(i)]\n",
    "        shifted['date_block_num'] += i\n",
    "        df = pd.merge(df, shifted, on=['date_block_num','shop_id','item_id'], how='left')\n",
    "        \n",
    "    return df"
   ]
  },
  {
   "cell_type": "code",
   "execution_count": 0,
   "metadata": {
    "colab": {},
    "colab_type": "code",
    "id": "6AgRmDCRlYP0"
   },
   "outputs": [],
   "source": [
    "train_extend = lag_feature(train_extend, [1,2,3], 'item_cnt_month')"
   ]
  },
  {
   "cell_type": "markdown",
   "metadata": {
    "colab_type": "text",
    "id": "6S-NxjTwh5Qv"
   },
   "source": [
    "<p>Trend of average item sales count</p>"
   ]
  },
  {
   "cell_type": "code",
   "execution_count": 0,
   "metadata": {
    "colab": {},
    "colab_type": "code",
    "id": "frxouaLca6N8"
   },
   "outputs": [],
   "source": [
    "# monthly average sales\n",
    "train_extend = lag_feature(train_extend, [1,2,3], 'item_cnt_month_avg')\n",
    "# monthly average sales for each item\n",
    "train_extend = lag_feature(train_extend, [1,2,3], 'item_cnt_month_avg_item')\n",
    "# monthly average sales for each shop\n",
    "train_extend = lag_feature(train_extend, [1,2,3], 'item_cnt_month_avg_shop')\n",
    "# monthly average sales for each categorty\n",
    "train_extend = lag_feature(train_extend, [1,2,3], 'item_cnt_month_avg_cat')\n",
    "# monthly average sales for each categorty in each shop\n",
    "train_extend = lag_feature(train_extend, [1,2,3], 'item_cnt_month_avg_cat_shop')\n",
    "# monthly average sales for each city\n",
    "train_extend = lag_feature(train_extend, [1,2,3], 'item_cnt_month_avg_city')\n",
    "# monthly average sales for each item in each city\n",
    "train_extend = lag_feature(train_extend,[1,2,3],'item_cnt_month_avg_item_city')"
   ]
  },
  {
   "cell_type": "markdown",
   "metadata": {
    "colab_type": "text",
    "id": "d0xzUeFqXyn3"
   },
   "source": [
    "<p>Price trend</p>"
   ]
  },
  {
   "cell_type": "code",
   "execution_count": 0,
   "metadata": {
    "colab": {},
    "colab_type": "code",
    "id": "bCB8kBIvXyn3"
   },
   "outputs": [],
   "source": [
    "temp = train.groupby(['item_id']).agg({'item_price':['mean']})\n",
    "temp.columns=['item_avg_item_price']\n",
    "temp.reset_index(inplace=True)\n",
    "\n",
    "train_extend = pd.merge(train_extend, temp, on=['item_id'],how='left')\n",
    "train_extend['item_avg_item_price'] = train_extend['item_avg_item_price'].astype(np.float16)"
   ]
  },
  {
   "cell_type": "code",
   "execution_count": 0,
   "metadata": {
    "colab": {},
    "colab_type": "code",
    "id": "xrxboa-4Xyn3"
   },
   "outputs": [],
   "source": [
    "temp = train.groupby(['date_block_num','item_id']).agg({'item_price':['mean']})\n",
    "temp.columns=['item_month_avg_item_price']\n",
    "temp.reset_index(inplace=True)\n",
    "\n",
    "train_extend = pd.merge(train_extend, temp, on=['date_block_num','item_id'],how='left')\n",
    "train_extend['item_month_avg_item_price'] = train_extend['item_month_avg_item_price'].astype(np.float16)\n",
    "\n",
    "lags=[1,2,3,4,5,6]\n",
    "train_extend = lag_feature(train_extend, lags, 'item_month_avg_item_price')\n",
    "\n",
    "for i in lags:\n",
    "    train_extend['delta_price_trend_' + str(i)] = \\\n",
    "    (train_extend['item_month_avg_item_price_lag_'+ str(i)] - train_extend['item_avg_item_price']) / train_extend['item_avg_item_price']\n",
    "    \n",
    "def select_trend(row):\n",
    "    for i in lags:\n",
    "        if row['delta_price_trend_' + str(i)]:\n",
    "            return row['delta_price_trend_' + str(i)]        \n",
    "    return 0\n",
    "\n",
    "train_extend['delta_price_trend'] = train_extend.apply(select_trend, axis=1)\n",
    "train_extend['delta_price_trend'] = train_extend['delta_price_trend'].astype(np.float16)\n",
    "train_extend['delta_price_trend'].fillna(0,inplace=True)\n",
    "\n",
    "features_to_drop=['item_avg_item_price','item_month_avg_item_price']\n",
    "for i in lags:\n",
    "    features_to_drop += ['item_month_avg_item_price_lag_'+ str(i)]\n",
    "    features_to_drop += ['delta_price_trend_' + str(i)]\n",
    "    \n",
    "train_extend.drop(features_to_drop,axis=1,inplace=True)"
   ]
  },
  {
   "cell_type": "markdown",
   "metadata": {
    "colab_type": "text",
    "id": "AbyilBqwnDJi"
   },
   "source": [
    "<h2>First sales and Last sales</h2>"
   ]
  },
  {
   "cell_type": "markdown",
   "metadata": {
    "colab_type": "text",
    "id": "geEHits7XyoA"
   },
   "source": [
    "<p>Number of months since the last sale for each shop/item pair.</p>"
   ]
  },
  {
   "cell_type": "code",
   "execution_count": 0,
   "metadata": {
    "colab": {},
    "colab_type": "code",
    "id": "KB9JuMcHXyoB"
   },
   "outputs": [],
   "source": [
    "dic = {}\n",
    "train_extend['last_sale_item_shop'] = -1\n",
    "train_extend['last_sale_item_shop'] = train_extend['last_sale_item_shop'].astype(np.int8)\n",
    "\n",
    "for idx, row in train_extend.iterrows():\n",
    "    key = str(row.item_id)+' '+str(row.shop_id)\n",
    "    if key not in dic:\n",
    "        if row.item_cnt_month!=0:\n",
    "            dic[key] = row.date_block_num\n",
    "    else:\n",
    "        last_date_block_num = dic[key]\n",
    "        train_extend.at[idx, 'last_sale_item_shop'] = row.date_block_num - last_date_block_num\n",
    "        dic[key] = row.date_block_num"
   ]
  },
  {
   "cell_type": "markdown",
   "metadata": {
    "colab_type": "text",
    "id": "mAY3QHy2XyoB"
   },
   "source": [
    "<p>Number of months since the last sale for each item.</p>"
   ]
  },
  {
   "cell_type": "code",
   "execution_count": 0,
   "metadata": {
    "colab": {},
    "colab_type": "code",
    "id": "lr-Y2GJtXyoC"
   },
   "outputs": [],
   "source": [
    "dic = {}\n",
    "train_extend['last_sale_item'] = -1\n",
    "train_extend['last_sale_item'] = train_extend['last_sale_item'].astype(np.int8)\n",
    "\n",
    "for idx, row in train_extend.iterrows():\n",
    "    key = row.item_id\n",
    "    if key not in dic:\n",
    "        if row.item_cnt_month!=0:\n",
    "            dic[key] = row.date_block_num\n",
    "    else:\n",
    "        last_date_block_num = dic[key]\n",
    "        if row.date_block_num > last_date_block_num:\n",
    "            train_extend.at[idx, 'last_sale_item'] = row.date_block_num - last_date_block_num\n",
    "            dic[key] = row.date_block_num"
   ]
  },
  {
   "cell_type": "markdown",
   "metadata": {
    "colab_type": "text",
    "id": "881obrWzXyoC"
   },
   "source": [
    "<p>Number of months since the first sale for each shop/item pair.</p>"
   ]
  },
  {
   "cell_type": "code",
   "execution_count": 0,
   "metadata": {
    "colab": {},
    "colab_type": "code",
    "id": "hwRdMM3nXyoD"
   },
   "outputs": [],
   "source": [
    "train_extend['first_sale_item_shop'] = train_extend['date_block_num'] - train_extend.groupby(['item_id','shop_id'])['date_block_num'].transform('min')"
   ]
  },
  {
   "cell_type": "markdown",
   "metadata": {
    "colab_type": "text",
    "id": "33aQEk6ypBKs"
   },
   "source": [
    "<p>Number of months since the first sale for each item.</p>"
   ]
  },
  {
   "cell_type": "code",
   "execution_count": 0,
   "metadata": {
    "colab": {},
    "colab_type": "code",
    "id": "AXnGiLRkXyoE"
   },
   "outputs": [],
   "source": [
    "train_extend['first_sale_item'] = train_extend['date_block_num'] - train_extend.groupby('item_id')['date_block_num'].transform('min')"
   ]
  },
  {
   "cell_type": "markdown",
   "metadata": {
    "colab_type": "text",
    "id": "UadvYxkSXyoF"
   },
   "source": [
    "<h1>Data to modeling</h1>"
   ]
  },
  {
   "cell_type": "markdown",
   "metadata": {
    "colab_type": "text",
    "id": "rnMU81Y0XyoF"
   },
   "source": [
    "<p>Drop first 3 months</p>"
   ]
  },
  {
   "cell_type": "code",
   "execution_count": 0,
   "metadata": {
    "colab": {},
    "colab_type": "code",
    "id": "b8EuDui-XyoF"
   },
   "outputs": [],
   "source": [
    "train_extend = train_extend[train_extend.date_block_num > 2]"
   ]
  },
  {
   "cell_type": "code",
   "execution_count": 98,
   "metadata": {
    "colab": {
     "base_uri": "https://localhost:8080/",
     "height": 215
    },
    "colab_type": "code",
    "executionInfo": {
     "elapsed": 2629008,
     "status": "ok",
     "timestamp": 1576003973918,
     "user": {
      "displayName": "Yuan Hu",
      "photoUrl": "",
      "userId": "14204862805009818583"
     },
     "user_tz": 480
    },
    "id": "fHhZz8YpXyoG",
    "outputId": "73c087de-fa3a-416c-f746-e61c7b3383c3"
   },
   "outputs": [
    {
     "data": {
      "text/html": [
       "<div>\n",
       "<style scoped>\n",
       "    .dataframe tbody tr th:only-of-type {\n",
       "        vertical-align: middle;\n",
       "    }\n",
       "\n",
       "    .dataframe tbody tr th {\n",
       "        vertical-align: top;\n",
       "    }\n",
       "\n",
       "    .dataframe thead th {\n",
       "        text-align: right;\n",
       "    }\n",
       "</style>\n",
       "<table border=\"1\" class=\"dataframe\">\n",
       "  <thead>\n",
       "    <tr style=\"text-align: right;\">\n",
       "      <th></th>\n",
       "      <th>date_block_num</th>\n",
       "      <th>shop_id</th>\n",
       "      <th>item_id</th>\n",
       "      <th>ID</th>\n",
       "      <th>city_id</th>\n",
       "      <th>item_category_id</th>\n",
       "      <th>type_id</th>\n",
       "      <th>subtype_id</th>\n",
       "      <th>month</th>\n",
       "      <th>days</th>\n",
       "      <th>item_cnt_month</th>\n",
       "      <th>item_cnt_month_avg</th>\n",
       "      <th>item_cnt_month_avg_item</th>\n",
       "      <th>item_cnt_month_avg_shop</th>\n",
       "      <th>item_cnt_month_avg_cat</th>\n",
       "      <th>item_cnt_month_avg_cat_shop</th>\n",
       "      <th>item_cnt_month_avg_city</th>\n",
       "      <th>item_cnt_month_avg_item_city</th>\n",
       "      <th>item_cnt_month_lag_1</th>\n",
       "      <th>item_cnt_month_lag_2</th>\n",
       "      <th>item_cnt_month_lag_3</th>\n",
       "      <th>item_cnt_month_avg_lag_1</th>\n",
       "      <th>item_cnt_month_avg_lag_2</th>\n",
       "      <th>item_cnt_month_avg_lag_3</th>\n",
       "      <th>item_cnt_month_avg_item_lag_1</th>\n",
       "      <th>item_cnt_month_avg_item_lag_2</th>\n",
       "      <th>item_cnt_month_avg_item_lag_3</th>\n",
       "      <th>item_cnt_month_avg_shop_lag_1</th>\n",
       "      <th>item_cnt_month_avg_shop_lag_2</th>\n",
       "      <th>item_cnt_month_avg_shop_lag_3</th>\n",
       "      <th>item_cnt_month_avg_cat_lag_1</th>\n",
       "      <th>item_cnt_month_avg_cat_lag_2</th>\n",
       "      <th>item_cnt_month_avg_cat_lag_3</th>\n",
       "      <th>item_cnt_month_avg_cat_shop_lag_1</th>\n",
       "      <th>item_cnt_month_avg_cat_shop_lag_2</th>\n",
       "      <th>item_cnt_month_avg_cat_shop_lag_3</th>\n",
       "      <th>item_cnt_month_avg_city_lag_1</th>\n",
       "      <th>item_cnt_month_avg_city_lag_2</th>\n",
       "      <th>item_cnt_month_avg_city_lag_3</th>\n",
       "      <th>item_cnt_month_avg_item_city_lag_1</th>\n",
       "      <th>item_cnt_month_avg_item_city_lag_2</th>\n",
       "      <th>item_cnt_month_avg_item_city_lag_3</th>\n",
       "      <th>delta_price_trend</th>\n",
       "      <th>last_sale_item_shop</th>\n",
       "      <th>last_sale_item</th>\n",
       "      <th>first_sale_item_shop</th>\n",
       "      <th>first_sale_item</th>\n",
       "    </tr>\n",
       "  </thead>\n",
       "  <tbody>\n",
       "    <tr>\n",
       "      <th>1122795</th>\n",
       "      <td>3</td>\n",
       "      <td>2</td>\n",
       "      <td>27</td>\n",
       "      <td>0.0</td>\n",
       "      <td>0</td>\n",
       "      <td>19</td>\n",
       "      <td>5</td>\n",
       "      <td>10</td>\n",
       "      <td>3</td>\n",
       "      <td>30</td>\n",
       "      <td>0.0</td>\n",
       "      <td>0.275391</td>\n",
       "      <td>0.021744</td>\n",
       "      <td>0.071838</td>\n",
       "      <td>0.687988</td>\n",
       "      <td>0.474609</td>\n",
       "      <td>0.071838</td>\n",
       "      <td>0.0</td>\n",
       "      <td>0.0</td>\n",
       "      <td>0.0</td>\n",
       "      <td>1.0</td>\n",
       "      <td>0.355469</td>\n",
       "      <td>0.324463</td>\n",
       "      <td>0.347168</td>\n",
       "      <td>0.086975</td>\n",
       "      <td>0.065247</td>\n",
       "      <td>0.155518</td>\n",
       "      <td>0.090454</td>\n",
       "      <td>0.059875</td>\n",
       "      <td>0.141235</td>\n",
       "      <td>1.093750</td>\n",
       "      <td>0.894531</td>\n",
       "      <td>0.834961</td>\n",
       "      <td>0.658203</td>\n",
       "      <td>0.292969</td>\n",
       "      <td>0.485107</td>\n",
       "      <td>0.090454</td>\n",
       "      <td>0.059875</td>\n",
       "      <td>0.141235</td>\n",
       "      <td>0.0</td>\n",
       "      <td>0.0</td>\n",
       "      <td>1.0</td>\n",
       "      <td>0.367676</td>\n",
       "      <td>1</td>\n",
       "      <td>1</td>\n",
       "      <td>3</td>\n",
       "      <td>3</td>\n",
       "    </tr>\n",
       "    <tr>\n",
       "      <th>1122796</th>\n",
       "      <td>3</td>\n",
       "      <td>2</td>\n",
       "      <td>28</td>\n",
       "      <td>0.0</td>\n",
       "      <td>0</td>\n",
       "      <td>30</td>\n",
       "      <td>8</td>\n",
       "      <td>55</td>\n",
       "      <td>3</td>\n",
       "      <td>30</td>\n",
       "      <td>0.0</td>\n",
       "      <td>0.275391</td>\n",
       "      <td>0.130493</td>\n",
       "      <td>0.071838</td>\n",
       "      <td>1.013672</td>\n",
       "      <td>0.387207</td>\n",
       "      <td>0.071838</td>\n",
       "      <td>0.0</td>\n",
       "      <td>0.0</td>\n",
       "      <td>0.0</td>\n",
       "      <td>0.0</td>\n",
       "      <td>0.355469</td>\n",
       "      <td>0.324463</td>\n",
       "      <td>0.347168</td>\n",
       "      <td>0.152222</td>\n",
       "      <td>0.173950</td>\n",
       "      <td>0.177734</td>\n",
       "      <td>0.090454</td>\n",
       "      <td>0.059875</td>\n",
       "      <td>0.141235</td>\n",
       "      <td>1.303711</td>\n",
       "      <td>0.994629</td>\n",
       "      <td>1.126953</td>\n",
       "      <td>0.502930</td>\n",
       "      <td>0.274414</td>\n",
       "      <td>0.537109</td>\n",
       "      <td>0.090454</td>\n",
       "      <td>0.059875</td>\n",
       "      <td>0.141235</td>\n",
       "      <td>0.0</td>\n",
       "      <td>0.0</td>\n",
       "      <td>0.0</td>\n",
       "      <td>0.283936</td>\n",
       "      <td>-1</td>\n",
       "      <td>1</td>\n",
       "      <td>3</td>\n",
       "      <td>3</td>\n",
       "    </tr>\n",
       "    <tr>\n",
       "      <th>1122797</th>\n",
       "      <td>3</td>\n",
       "      <td>2</td>\n",
       "      <td>30</td>\n",
       "      <td>0.0</td>\n",
       "      <td>0</td>\n",
       "      <td>40</td>\n",
       "      <td>11</td>\n",
       "      <td>4</td>\n",
       "      <td>3</td>\n",
       "      <td>30</td>\n",
       "      <td>0.0</td>\n",
       "      <td>0.275391</td>\n",
       "      <td>2.826172</td>\n",
       "      <td>0.071838</td>\n",
       "      <td>0.231445</td>\n",
       "      <td>0.018585</td>\n",
       "      <td>0.071838</td>\n",
       "      <td>0.0</td>\n",
       "      <td>1.0</td>\n",
       "      <td>0.0</td>\n",
       "      <td>NaN</td>\n",
       "      <td>0.355469</td>\n",
       "      <td>0.324463</td>\n",
       "      <td>NaN</td>\n",
       "      <td>8.281250</td>\n",
       "      <td>12.453125</td>\n",
       "      <td>NaN</td>\n",
       "      <td>0.090454</td>\n",
       "      <td>0.059875</td>\n",
       "      <td>NaN</td>\n",
       "      <td>0.287109</td>\n",
       "      <td>0.266113</td>\n",
       "      <td>NaN</td>\n",
       "      <td>0.026779</td>\n",
       "      <td>0.016724</td>\n",
       "      <td>NaN</td>\n",
       "      <td>0.090454</td>\n",
       "      <td>0.059875</td>\n",
       "      <td>NaN</td>\n",
       "      <td>1.0</td>\n",
       "      <td>0.0</td>\n",
       "      <td>NaN</td>\n",
       "      <td>0.215454</td>\n",
       "      <td>1</td>\n",
       "      <td>1</td>\n",
       "      <td>2</td>\n",
       "      <td>2</td>\n",
       "    </tr>\n",
       "    <tr>\n",
       "      <th>1122798</th>\n",
       "      <td>3</td>\n",
       "      <td>2</td>\n",
       "      <td>31</td>\n",
       "      <td>0.0</td>\n",
       "      <td>0</td>\n",
       "      <td>37</td>\n",
       "      <td>11</td>\n",
       "      <td>1</td>\n",
       "      <td>3</td>\n",
       "      <td>30</td>\n",
       "      <td>1.0</td>\n",
       "      <td>0.275391</td>\n",
       "      <td>1.260742</td>\n",
       "      <td>0.071838</td>\n",
       "      <td>0.175049</td>\n",
       "      <td>0.022491</td>\n",
       "      <td>0.071838</td>\n",
       "      <td>1.0</td>\n",
       "      <td>1.0</td>\n",
       "      <td>4.0</td>\n",
       "      <td>NaN</td>\n",
       "      <td>0.355469</td>\n",
       "      <td>0.324463</td>\n",
       "      <td>NaN</td>\n",
       "      <td>4.761719</td>\n",
       "      <td>11.195312</td>\n",
       "      <td>NaN</td>\n",
       "      <td>0.090454</td>\n",
       "      <td>0.059875</td>\n",
       "      <td>NaN</td>\n",
       "      <td>0.197876</td>\n",
       "      <td>0.196045</td>\n",
       "      <td>NaN</td>\n",
       "      <td>0.022552</td>\n",
       "      <td>0.030609</td>\n",
       "      <td>NaN</td>\n",
       "      <td>0.090454</td>\n",
       "      <td>0.059875</td>\n",
       "      <td>NaN</td>\n",
       "      <td>1.0</td>\n",
       "      <td>4.0</td>\n",
       "      <td>NaN</td>\n",
       "      <td>0.190186</td>\n",
       "      <td>1</td>\n",
       "      <td>1</td>\n",
       "      <td>2</td>\n",
       "      <td>2</td>\n",
       "    </tr>\n",
       "    <tr>\n",
       "      <th>1122799</th>\n",
       "      <td>3</td>\n",
       "      <td>2</td>\n",
       "      <td>32</td>\n",
       "      <td>0.0</td>\n",
       "      <td>0</td>\n",
       "      <td>40</td>\n",
       "      <td>11</td>\n",
       "      <td>4</td>\n",
       "      <td>3</td>\n",
       "      <td>30</td>\n",
       "      <td>0.0</td>\n",
       "      <td>0.275391</td>\n",
       "      <td>2.109375</td>\n",
       "      <td>0.071838</td>\n",
       "      <td>0.231445</td>\n",
       "      <td>0.018585</td>\n",
       "      <td>0.071838</td>\n",
       "      <td>0.0</td>\n",
       "      <td>0.0</td>\n",
       "      <td>0.0</td>\n",
       "      <td>0.0</td>\n",
       "      <td>0.355469</td>\n",
       "      <td>0.324463</td>\n",
       "      <td>0.347168</td>\n",
       "      <td>3.869141</td>\n",
       "      <td>4.476562</td>\n",
       "      <td>5.378906</td>\n",
       "      <td>0.090454</td>\n",
       "      <td>0.059875</td>\n",
       "      <td>0.141235</td>\n",
       "      <td>0.287109</td>\n",
       "      <td>0.266113</td>\n",
       "      <td>0.293945</td>\n",
       "      <td>0.026779</td>\n",
       "      <td>0.016724</td>\n",
       "      <td>0.073120</td>\n",
       "      <td>0.090454</td>\n",
       "      <td>0.059875</td>\n",
       "      <td>0.141235</td>\n",
       "      <td>0.0</td>\n",
       "      <td>0.0</td>\n",
       "      <td>0.0</td>\n",
       "      <td>0.376953</td>\n",
       "      <td>-1</td>\n",
       "      <td>1</td>\n",
       "      <td>3</td>\n",
       "      <td>3</td>\n",
       "    </tr>\n",
       "  </tbody>\n",
       "</table>\n",
       "</div>"
      ],
      "text/plain": [
       "         date_block_num  shop_id  item_id   ID  city_id  item_category_id  \\\n",
       "1122795               3        2       27  0.0        0                19   \n",
       "1122796               3        2       28  0.0        0                30   \n",
       "1122797               3        2       30  0.0        0                40   \n",
       "1122798               3        2       31  0.0        0                37   \n",
       "1122799               3        2       32  0.0        0                40   \n",
       "\n",
       "         type_id  subtype_id  month  days  item_cnt_month  item_cnt_month_avg  \\\n",
       "1122795        5          10      3    30             0.0            0.275391   \n",
       "1122796        8          55      3    30             0.0            0.275391   \n",
       "1122797       11           4      3    30             0.0            0.275391   \n",
       "1122798       11           1      3    30             1.0            0.275391   \n",
       "1122799       11           4      3    30             0.0            0.275391   \n",
       "\n",
       "         item_cnt_month_avg_item  item_cnt_month_avg_shop  \\\n",
       "1122795                 0.021744                 0.071838   \n",
       "1122796                 0.130493                 0.071838   \n",
       "1122797                 2.826172                 0.071838   \n",
       "1122798                 1.260742                 0.071838   \n",
       "1122799                 2.109375                 0.071838   \n",
       "\n",
       "         item_cnt_month_avg_cat  item_cnt_month_avg_cat_shop  \\\n",
       "1122795                0.687988                     0.474609   \n",
       "1122796                1.013672                     0.387207   \n",
       "1122797                0.231445                     0.018585   \n",
       "1122798                0.175049                     0.022491   \n",
       "1122799                0.231445                     0.018585   \n",
       "\n",
       "         item_cnt_month_avg_city  item_cnt_month_avg_item_city  \\\n",
       "1122795                 0.071838                           0.0   \n",
       "1122796                 0.071838                           0.0   \n",
       "1122797                 0.071838                           0.0   \n",
       "1122798                 0.071838                           1.0   \n",
       "1122799                 0.071838                           0.0   \n",
       "\n",
       "         item_cnt_month_lag_1  item_cnt_month_lag_2  item_cnt_month_lag_3  \\\n",
       "1122795                   0.0                   0.0                   1.0   \n",
       "1122796                   0.0                   0.0                   0.0   \n",
       "1122797                   1.0                   0.0                   NaN   \n",
       "1122798                   1.0                   4.0                   NaN   \n",
       "1122799                   0.0                   0.0                   0.0   \n",
       "\n",
       "         item_cnt_month_avg_lag_1  item_cnt_month_avg_lag_2  \\\n",
       "1122795                  0.355469                  0.324463   \n",
       "1122796                  0.355469                  0.324463   \n",
       "1122797                  0.355469                  0.324463   \n",
       "1122798                  0.355469                  0.324463   \n",
       "1122799                  0.355469                  0.324463   \n",
       "\n",
       "         item_cnt_month_avg_lag_3  item_cnt_month_avg_item_lag_1  \\\n",
       "1122795                  0.347168                       0.086975   \n",
       "1122796                  0.347168                       0.152222   \n",
       "1122797                       NaN                       8.281250   \n",
       "1122798                       NaN                       4.761719   \n",
       "1122799                  0.347168                       3.869141   \n",
       "\n",
       "         item_cnt_month_avg_item_lag_2  item_cnt_month_avg_item_lag_3  \\\n",
       "1122795                       0.065247                       0.155518   \n",
       "1122796                       0.173950                       0.177734   \n",
       "1122797                      12.453125                            NaN   \n",
       "1122798                      11.195312                            NaN   \n",
       "1122799                       4.476562                       5.378906   \n",
       "\n",
       "         item_cnt_month_avg_shop_lag_1  item_cnt_month_avg_shop_lag_2  \\\n",
       "1122795                       0.090454                       0.059875   \n",
       "1122796                       0.090454                       0.059875   \n",
       "1122797                       0.090454                       0.059875   \n",
       "1122798                       0.090454                       0.059875   \n",
       "1122799                       0.090454                       0.059875   \n",
       "\n",
       "         item_cnt_month_avg_shop_lag_3  item_cnt_month_avg_cat_lag_1  \\\n",
       "1122795                       0.141235                      1.093750   \n",
       "1122796                       0.141235                      1.303711   \n",
       "1122797                            NaN                      0.287109   \n",
       "1122798                            NaN                      0.197876   \n",
       "1122799                       0.141235                      0.287109   \n",
       "\n",
       "         item_cnt_month_avg_cat_lag_2  item_cnt_month_avg_cat_lag_3  \\\n",
       "1122795                      0.894531                      0.834961   \n",
       "1122796                      0.994629                      1.126953   \n",
       "1122797                      0.266113                           NaN   \n",
       "1122798                      0.196045                           NaN   \n",
       "1122799                      0.266113                      0.293945   \n",
       "\n",
       "         item_cnt_month_avg_cat_shop_lag_1  item_cnt_month_avg_cat_shop_lag_2  \\\n",
       "1122795                           0.658203                           0.292969   \n",
       "1122796                           0.502930                           0.274414   \n",
       "1122797                           0.026779                           0.016724   \n",
       "1122798                           0.022552                           0.030609   \n",
       "1122799                           0.026779                           0.016724   \n",
       "\n",
       "         item_cnt_month_avg_cat_shop_lag_3  item_cnt_month_avg_city_lag_1  \\\n",
       "1122795                           0.485107                       0.090454   \n",
       "1122796                           0.537109                       0.090454   \n",
       "1122797                                NaN                       0.090454   \n",
       "1122798                                NaN                       0.090454   \n",
       "1122799                           0.073120                       0.090454   \n",
       "\n",
       "         item_cnt_month_avg_city_lag_2  item_cnt_month_avg_city_lag_3  \\\n",
       "1122795                       0.059875                       0.141235   \n",
       "1122796                       0.059875                       0.141235   \n",
       "1122797                       0.059875                            NaN   \n",
       "1122798                       0.059875                            NaN   \n",
       "1122799                       0.059875                       0.141235   \n",
       "\n",
       "         item_cnt_month_avg_item_city_lag_1  \\\n",
       "1122795                                 0.0   \n",
       "1122796                                 0.0   \n",
       "1122797                                 1.0   \n",
       "1122798                                 1.0   \n",
       "1122799                                 0.0   \n",
       "\n",
       "         item_cnt_month_avg_item_city_lag_2  \\\n",
       "1122795                                 0.0   \n",
       "1122796                                 0.0   \n",
       "1122797                                 0.0   \n",
       "1122798                                 4.0   \n",
       "1122799                                 0.0   \n",
       "\n",
       "         item_cnt_month_avg_item_city_lag_3  delta_price_trend  \\\n",
       "1122795                                 1.0           0.367676   \n",
       "1122796                                 0.0           0.283936   \n",
       "1122797                                 NaN           0.215454   \n",
       "1122798                                 NaN           0.190186   \n",
       "1122799                                 0.0           0.376953   \n",
       "\n",
       "         last_sale_item_shop  last_sale_item  first_sale_item_shop  \\\n",
       "1122795                    1               1                     3   \n",
       "1122796                   -1               1                     3   \n",
       "1122797                    1               1                     2   \n",
       "1122798                    1               1                     2   \n",
       "1122799                   -1               1                     3   \n",
       "\n",
       "         first_sale_item  \n",
       "1122795                3  \n",
       "1122796                3  \n",
       "1122797                2  \n",
       "1122798                2  \n",
       "1122799                3  "
      ]
     },
     "execution_count": 98,
     "metadata": {
      "tags": []
     },
     "output_type": "execute_result"
    }
   ],
   "source": [
    "train_extend.head()"
   ]
  },
  {
   "cell_type": "markdown",
   "metadata": {
    "colab_type": "text",
    "id": "vf3xG59NXyoG"
   },
   "source": [
    "<p>Lag features create a lot of nulls. Fill those nulls with 0</p>"
   ]
  },
  {
   "cell_type": "code",
   "execution_count": 0,
   "metadata": {
    "colab": {},
    "colab_type": "code",
    "id": "abMB9sTFXyoH"
   },
   "outputs": [],
   "source": [
    "def fill_na(df):\n",
    "    for col in df.columns:\n",
    "        if ('_lag_' in col) & (df[col].isnull().any()):\n",
    "            if ('item_cnt' in col):\n",
    "                df[col].fillna(0, inplace=True)\n",
    "    return df"
   ]
  },
  {
   "cell_type": "code",
   "execution_count": 0,
   "metadata": {
    "colab": {},
    "colab_type": "code",
    "id": "PjYC_BMFXyoI"
   },
   "outputs": [],
   "source": [
    "train_extend = fill_na(train_extend)"
   ]
  },
  {
   "cell_type": "code",
   "execution_count": 101,
   "metadata": {
    "colab": {
     "base_uri": "https://localhost:8080/",
     "height": 403
    },
    "colab_type": "code",
    "executionInfo": {
     "elapsed": 2631985,
     "status": "ok",
     "timestamp": 1576003976988,
     "user": {
      "displayName": "Yuan Hu",
      "photoUrl": "",
      "userId": "14204862805009818583"
     },
     "user_tz": 480
    },
    "id": "dtBuPaaEXyoJ",
    "outputId": "31a8505e-f662-446a-b4bc-06a247902812"
   },
   "outputs": [
    {
     "data": {
      "text/plain": [
       "Index(['date_block_num', 'shop_id', 'item_id', 'ID', 'city_id',\n",
       "       'item_category_id', 'type_id', 'subtype_id', 'month', 'days',\n",
       "       'item_cnt_month', 'item_cnt_month_avg', 'item_cnt_month_avg_item',\n",
       "       'item_cnt_month_avg_shop', 'item_cnt_month_avg_cat',\n",
       "       'item_cnt_month_avg_cat_shop', 'item_cnt_month_avg_city',\n",
       "       'item_cnt_month_avg_item_city', 'item_cnt_month_lag_1',\n",
       "       'item_cnt_month_lag_2', 'item_cnt_month_lag_3',\n",
       "       'item_cnt_month_avg_lag_1', 'item_cnt_month_avg_lag_2',\n",
       "       'item_cnt_month_avg_lag_3', 'item_cnt_month_avg_item_lag_1',\n",
       "       'item_cnt_month_avg_item_lag_2', 'item_cnt_month_avg_item_lag_3',\n",
       "       'item_cnt_month_avg_shop_lag_1', 'item_cnt_month_avg_shop_lag_2',\n",
       "       'item_cnt_month_avg_shop_lag_3', 'item_cnt_month_avg_cat_lag_1',\n",
       "       'item_cnt_month_avg_cat_lag_2', 'item_cnt_month_avg_cat_lag_3',\n",
       "       'item_cnt_month_avg_cat_shop_lag_1',\n",
       "       'item_cnt_month_avg_cat_shop_lag_2',\n",
       "       'item_cnt_month_avg_cat_shop_lag_3', 'item_cnt_month_avg_city_lag_1',\n",
       "       'item_cnt_month_avg_city_lag_2', 'item_cnt_month_avg_city_lag_3',\n",
       "       'item_cnt_month_avg_item_city_lag_1',\n",
       "       'item_cnt_month_avg_item_city_lag_2',\n",
       "       'item_cnt_month_avg_item_city_lag_3', 'delta_price_trend',\n",
       "       'last_sale_item_shop', 'last_sale_item', 'first_sale_item_shop',\n",
       "       'first_sale_item'],\n",
       "      dtype='object')"
      ]
     },
     "execution_count": 101,
     "metadata": {
      "tags": []
     },
     "output_type": "execute_result"
    }
   ],
   "source": [
    "train_extend.columns"
   ]
  },
  {
   "cell_type": "code",
   "execution_count": 102,
   "metadata": {
    "colab": {
     "base_uri": "https://localhost:8080/",
     "height": 890
    },
    "colab_type": "code",
    "executionInfo": {
     "elapsed": 2631972,
     "status": "ok",
     "timestamp": 1576003976990,
     "user": {
      "displayName": "Yuan Hu",
      "photoUrl": "",
      "userId": "14204862805009818583"
     },
     "user_tz": 480
    },
    "id": "-vhXgbpMXyoJ",
    "outputId": "fed5e431-f6b7-424d-ded6-cc319b6a6f5a"
   },
   "outputs": [
    {
     "name": "stdout",
     "output_type": "stream",
     "text": [
      "<class 'pandas.core.frame.DataFrame'>\n",
      "Int64Index: 10005209 entries, 1122795 to 11128003\n",
      "Data columns (total 47 columns):\n",
      "date_block_num                        int8\n",
      "shop_id                               int8\n",
      "item_id                               int16\n",
      "ID                                    float64\n",
      "city_id                               int8\n",
      "item_category_id                      int8\n",
      "type_id                               int8\n",
      "subtype_id                            int8\n",
      "month                                 int8\n",
      "days                                  int8\n",
      "item_cnt_month                        float16\n",
      "item_cnt_month_avg                    float16\n",
      "item_cnt_month_avg_item               float16\n",
      "item_cnt_month_avg_shop               float16\n",
      "item_cnt_month_avg_cat                float16\n",
      "item_cnt_month_avg_cat_shop           float16\n",
      "item_cnt_month_avg_city               float16\n",
      "item_cnt_month_avg_item_city          float16\n",
      "item_cnt_month_lag_1                  float16\n",
      "item_cnt_month_lag_2                  float16\n",
      "item_cnt_month_lag_3                  float16\n",
      "item_cnt_month_avg_lag_1              float16\n",
      "item_cnt_month_avg_lag_2              float16\n",
      "item_cnt_month_avg_lag_3              float16\n",
      "item_cnt_month_avg_item_lag_1         float16\n",
      "item_cnt_month_avg_item_lag_2         float16\n",
      "item_cnt_month_avg_item_lag_3         float16\n",
      "item_cnt_month_avg_shop_lag_1         float16\n",
      "item_cnt_month_avg_shop_lag_2         float16\n",
      "item_cnt_month_avg_shop_lag_3         float16\n",
      "item_cnt_month_avg_cat_lag_1          float16\n",
      "item_cnt_month_avg_cat_lag_2          float16\n",
      "item_cnt_month_avg_cat_lag_3          float16\n",
      "item_cnt_month_avg_cat_shop_lag_1     float16\n",
      "item_cnt_month_avg_cat_shop_lag_2     float16\n",
      "item_cnt_month_avg_cat_shop_lag_3     float16\n",
      "item_cnt_month_avg_city_lag_1         float16\n",
      "item_cnt_month_avg_city_lag_2         float16\n",
      "item_cnt_month_avg_city_lag_3         float16\n",
      "item_cnt_month_avg_item_city_lag_1    float16\n",
      "item_cnt_month_avg_item_city_lag_2    float16\n",
      "item_cnt_month_avg_item_city_lag_3    float16\n",
      "delta_price_trend                     float16\n",
      "last_sale_item_shop                   int8\n",
      "last_sale_item                        int8\n",
      "first_sale_item_shop                  int8\n",
      "first_sale_item                       int8\n",
      "dtypes: float16(33), float64(1), int16(1), int8(12)\n",
      "memory usage: 916.0 MB\n"
     ]
    }
   ],
   "source": [
    "train_extend.info()"
   ]
  },
  {
   "cell_type": "markdown",
   "metadata": {
    "colab_type": "text",
    "id": "VUJ6fYmk99Nm"
   },
   "source": [
    "<h2>Select features</h2>"
   ]
  },
  {
   "cell_type": "code",
   "execution_count": 0,
   "metadata": {
    "colab": {},
    "colab_type": "code",
    "id": "rxnUCYlG-Ch0"
   },
   "outputs": [],
   "source": [
    "selected_features = ['date_block_num',\n",
    "                     'shop_id',\n",
    "                     'item_id',\n",
    "                     'month',\n",
    "                     'days',\n",
    "                     'city_id',\n",
    "                     'item_category_id',\n",
    "                     'type_id',\n",
    "                     'subtype_id',\n",
    "                     'item_cnt_month',\n",
    "                     'item_cnt_month_lag_1',\n",
    "                     'item_cnt_month_lag_2',\n",
    "                     'item_cnt_month_lag_3',\n",
    "                     'item_cnt_month_avg_lag_1',\n",
    "                     'item_cnt_month_avg_lag_2',\n",
    "                     'item_cnt_month_avg_lag_3',\n",
    "                     'item_cnt_month_avg_item_lag_1',\n",
    "                     'item_cnt_month_avg_item_lag_2',\n",
    "                     'item_cnt_month_avg_item_lag_3',\n",
    "                     'item_cnt_month_avg_shop_lag_1',\n",
    "                     'item_cnt_month_avg_shop_lag_2',\n",
    "                     'item_cnt_month_avg_shop_lag_3',\n",
    "                     'item_cnt_month_avg_cat_lag_1',\n",
    "                     'item_cnt_month_avg_cat_lag_2',\n",
    "                     'item_cnt_month_avg_cat_lag_3',\n",
    "                     'item_cnt_month_avg_cat_shop_lag_1',\n",
    "                     'item_cnt_month_avg_cat_shop_lag_2',\n",
    "                     'item_cnt_month_avg_cat_shop_lag_3',\n",
    "                     'item_cnt_month_avg_city_lag_1',\n",
    "                     'item_cnt_month_avg_city_lag_2',\n",
    "                     'item_cnt_month_avg_city_lag_3',\n",
    "                     'item_cnt_month_avg_item_city_lag_1',\n",
    "                     'item_cnt_month_avg_item_city_lag_2',\n",
    "                     'item_cnt_month_avg_item_city_lag_3',\n",
    "                     'delta_price_trend',\n",
    "                     'first_sale_item_shop',\n",
    "                     'first_sale_item',\n",
    "                     'last_sale_item_shop',\n",
    "                     'last_sale_item']\n",
    "                     \n",
    "data = train_extend[selected_features]"
   ]
  },
  {
   "cell_type": "markdown",
   "metadata": {
    "colab_type": "text",
    "id": "b2OrbW9TXyoK"
   },
   "source": [
    "<h1>Save data</h1>"
   ]
  },
  {
   "cell_type": "code",
   "execution_count": 0,
   "metadata": {
    "colab": {},
    "colab_type": "code",
    "id": "BG6zNYwoXyoK"
   },
   "outputs": [],
   "source": [
    "data.to_pickle('data_to_model.pkl')"
   ]
  }
 ],
 "metadata": {
  "accelerator": "GPU",
  "colab": {
   "collapsed_sections": [],
   "machine_shape": "hm",
   "name": "data_preparation.ipynb",
   "provenance": []
  },
  "kernelspec": {
   "display_name": "Python 3",
   "language": "python",
   "name": "python3"
  },
  "language_info": {
   "codemirror_mode": {
    "name": "ipython",
    "version": 3
   },
   "file_extension": ".py",
   "mimetype": "text/x-python",
   "name": "python",
   "nbconvert_exporter": "python",
   "pygments_lexer": "ipython3",
   "version": "3.7.3"
  }
 },
 "nbformat": 4,
 "nbformat_minor": 1
}
