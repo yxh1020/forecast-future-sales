{
 "cells": [
  {
   "cell_type": "markdown",
   "metadata": {
    "colab_type": "text",
    "id": "eA6gTikznlVz"
   },
   "source": [
    "<h1>Load data</h1>"
   ]
  },
  {
   "cell_type": "code",
   "execution_count": 0,
   "metadata": {
    "colab": {},
    "colab_type": "code",
    "id": "QvYnSQcpnlV0"
   },
   "outputs": [],
   "source": [
    "import pandas as pd\n",
    "import numpy as np\n",
    "\n",
    "from sklearn.metrics import mean_squared_error\n",
    "from sklearn.preprocessing import StandardScaler, MinMaxScaler\n",
    "from sklearn.linear_model import LinearRegression\n",
    "from sklearn.ensemble import RandomForestRegressor\n",
    "\n",
    "from xgboost import XGBRegressor\n",
    "from xgboost import plot_importance\n",
    "\n",
    "import matplotlib.pyplot as plt"
   ]
  },
  {
   "cell_type": "code",
   "execution_count": 0,
   "metadata": {
    "colab": {},
    "colab_type": "code",
    "id": "bSrUN0OHnlV3"
   },
   "outputs": [],
   "source": [
    "test = pd.read_csv('data/test.csv')\n",
    "data = pd.read_pickle('data_to_model.pkl')"
   ]
  },
  {
   "cell_type": "code",
   "execution_count": 5,
   "metadata": {
    "colab": {
     "base_uri": "https://localhost:8080/",
     "height": 756
    },
    "colab_type": "code",
    "executionInfo": {
     "elapsed": 1251,
     "status": "ok",
     "timestamp": 1576027029259,
     "user": {
      "displayName": "Yuan Hu",
      "photoUrl": "",
      "userId": "14204862805009818583"
     },
     "user_tz": 480
    },
    "id": "MluXxnLUtabA",
    "outputId": "fa2209c7-8fa8-40f2-fdd7-5f5c6116307b"
   },
   "outputs": [
    {
     "name": "stdout",
     "output_type": "stream",
     "text": [
      "<class 'pandas.core.frame.DataFrame'>\n",
      "Int64Index: 10005209 entries, 1122795 to 11128003\n",
      "Data columns (total 39 columns):\n",
      "date_block_num                        int8\n",
      "shop_id                               int8\n",
      "item_id                               int16\n",
      "month                                 int8\n",
      "days                                  int8\n",
      "city_id                               int8\n",
      "item_category_id                      int8\n",
      "type_id                               int8\n",
      "subtype_id                            int8\n",
      "item_cnt_month                        float16\n",
      "item_cnt_month_lag_1                  float16\n",
      "item_cnt_month_lag_2                  float16\n",
      "item_cnt_month_lag_3                  float16\n",
      "item_cnt_month_avg_lag_1              float16\n",
      "item_cnt_month_avg_lag_2              float16\n",
      "item_cnt_month_avg_lag_3              float16\n",
      "item_cnt_month_avg_item_lag_1         float16\n",
      "item_cnt_month_avg_item_lag_2         float16\n",
      "item_cnt_month_avg_item_lag_3         float16\n",
      "item_cnt_month_avg_shop_lag_1         float16\n",
      "item_cnt_month_avg_shop_lag_2         float16\n",
      "item_cnt_month_avg_shop_lag_3         float16\n",
      "item_cnt_month_avg_cat_lag_1          float16\n",
      "item_cnt_month_avg_cat_lag_2          float16\n",
      "item_cnt_month_avg_cat_lag_3          float16\n",
      "item_cnt_month_avg_cat_shop_lag_1     float16\n",
      "item_cnt_month_avg_cat_shop_lag_2     float16\n",
      "item_cnt_month_avg_cat_shop_lag_3     float16\n",
      "item_cnt_month_avg_city_lag_1         float16\n",
      "item_cnt_month_avg_city_lag_2         float16\n",
      "item_cnt_month_avg_city_lag_3         float16\n",
      "item_cnt_month_avg_item_city_lag_1    float16\n",
      "item_cnt_month_avg_item_city_lag_2    float16\n",
      "item_cnt_month_avg_item_city_lag_3    float16\n",
      "delta_price_trend                     float16\n",
      "first_sale_item_shop                  int8\n",
      "first_sale_item                       int8\n",
      "last_sale_item_shop                   int8\n",
      "last_sale_item                        int8\n",
      "dtypes: float16(26), int16(1), int8(12)\n",
      "memory usage: 706.1 MB\n"
     ]
    }
   ],
   "source": [
    "data.info()"
   ]
  },
  {
   "cell_type": "markdown",
   "metadata": {
    "colab_type": "text",
    "id": "2Mi8y6AfnlV_"
   },
   "source": [
    "<h1> Train/validation split</h1>\n",
    "<p>train set: 13-32 months</p>\n",
    "<p>validation set: 33 month </p>\n",
    "<p>test set: 34 month </p>\n",
    "\n"
   ]
  },
  {
   "cell_type": "code",
   "execution_count": 0,
   "metadata": {
    "colab": {},
    "colab_type": "code",
    "id": "OfJwc-honlV_"
   },
   "outputs": [],
   "source": [
    "X_train = data[data['date_block_num'] < 33].drop(['item_cnt_month'], axis=1)\n",
    "Y_train = data[data['date_block_num'] < 33]['item_cnt_month']"
   ]
  },
  {
   "cell_type": "code",
   "execution_count": 0,
   "metadata": {
    "colab": {},
    "colab_type": "code",
    "id": "zRDzXXSNnlWB"
   },
   "outputs": [],
   "source": [
    "X_validation = data[data['date_block_num'] == 33].drop(['item_cnt_month'], axis=1)\n",
    "Y_validation = data[data['date_block_num'] == 33]['item_cnt_month']"
   ]
  },
  {
   "cell_type": "code",
   "execution_count": 0,
   "metadata": {
    "colab": {},
    "colab_type": "code",
    "id": "3KfaO47ynlWD"
   },
   "outputs": [],
   "source": [
    "X_test = data[data['date_block_num'] == 34].drop(['item_cnt_month'], axis=1)"
   ]
  },
  {
   "cell_type": "markdown",
   "metadata": {
    "colab_type": "text",
    "id": "rxvP-xksnlVw"
   },
   "source": [
    "<h1>Modeling</h1>"
   ]
  },
  {
   "cell_type": "markdown",
   "metadata": {
    "colab_type": "text",
    "id": "xOIZSOivMxU9"
   },
   "source": [
    "<h2>Linear Regression</h2>"
   ]
  },
  {
   "cell_type": "code",
   "execution_count": 0,
   "metadata": {
    "colab": {},
    "colab_type": "code",
    "id": "7pUGl8RyM3V3"
   },
   "outputs": [],
   "source": [
    "# Feature Normalization\n",
    "lr_scaler = MinMaxScaler()\n",
    "lr_scaler.fit(X_train)\n",
    "lr_X_train = lr_scaler.transform(X_train)\n",
    "lr_X_validation = lr_scaler.transform(X_validation) "
   ]
  },
  {
   "cell_type": "code",
   "execution_count": 11,
   "metadata": {
    "colab": {
     "base_uri": "https://localhost:8080/",
     "height": 34
    },
    "colab_type": "code",
    "executionInfo": {
     "elapsed": 14066,
     "status": "ok",
     "timestamp": 1576027079774,
     "user": {
      "displayName": "Yuan Hu",
      "photoUrl": "",
      "userId": "14204862805009818583"
     },
     "user_tz": 480
    },
    "id": "9tRStyZgNmMa",
    "outputId": "7ed22492-a32b-44d1-8897-3462c190380c"
   },
   "outputs": [
    {
     "data": {
      "text/plain": [
       "LinearRegression(copy_X=True, fit_intercept=True, n_jobs=None, normalize=False)"
      ]
     },
     "execution_count": 11,
     "metadata": {
      "tags": []
     },
     "output_type": "execute_result"
    }
   ],
   "source": [
    "lr_model = LinearRegression()\n",
    "lr_model.fit(lr_X_train, Y_train)"
   ]
  },
  {
   "cell_type": "code",
   "execution_count": 12,
   "metadata": {
    "colab": {
     "base_uri": "https://localhost:8080/",
     "height": 50
    },
    "colab_type": "code",
    "executionInfo": {
     "elapsed": 1277,
     "status": "ok",
     "timestamp": 1576027082303,
     "user": {
      "displayName": "Yuan Hu",
      "photoUrl": "",
      "userId": "14204862805009818583"
     },
     "user_tz": 480
    },
    "id": "Ms-TLJf7Nv4R",
    "outputId": "23e0467f-fead-4b4b-ccd8-234210a63e84"
   },
   "outputs": [
    {
     "name": "stdout",
     "output_type": "stream",
     "text": [
      "RMSE of train set:  0.9483931294981546\n",
      "RMSE of validation set:  0.9683597202763511\n"
     ]
    }
   ],
   "source": [
    "lr_train_predict = lr_model.predict(lr_X_train).clip(0, 20)\n",
    "lr_validate_predict = lr_model.predict(lr_X_validation).clip(0, 20)\n",
    "\n",
    "print(\"RMSE of train set: \", np.sqrt(mean_squared_error(Y_train, lr_train_predict)))\n",
    "print(\"RMSE of validation set: \", np.sqrt(mean_squared_error(Y_validation, lr_validate_predict)))"
   ]
  },
  {
   "cell_type": "markdown",
   "metadata": {
    "colab_type": "text",
    "id": "TVy5l7rSK6IG"
   },
   "source": [
    "<h2>Random Forest</h2>"
   ]
  },
  {
   "cell_type": "code",
   "execution_count": 0,
   "metadata": {
    "colab": {},
    "colab_type": "code",
    "id": "_VB4G2pmLA4j"
   },
   "outputs": [],
   "source": [
    "rf_model = RandomForestRegressor(n_estimators = 50,\n",
    "                                 max_depth = 7,\n",
    "                                 random_state = 1,\n",
    "                                 n_jobs = 4)"
   ]
  },
  {
   "cell_type": "code",
   "execution_count": 15,
   "metadata": {
    "colab": {
     "base_uri": "https://localhost:8080/",
     "height": 134
    },
    "colab_type": "code",
    "executionInfo": {
     "elapsed": 3598838,
     "status": "ok",
     "timestamp": 1576026631079,
     "user": {
      "displayName": "Yuan Hu",
      "photoUrl": "",
      "userId": "14204862805009818583"
     },
     "user_tz": 480
    },
    "id": "azkFso9qLdzN",
    "outputId": "97612379-8bf0-4a7e-ca81-c434ee44a671"
   },
   "outputs": [
    {
     "data": {
      "text/plain": [
       "RandomForestRegressor(bootstrap=True, criterion='mse', max_depth=7,\n",
       "                      max_features='auto', max_leaf_nodes=None,\n",
       "                      min_impurity_decrease=0.0, min_impurity_split=None,\n",
       "                      min_samples_leaf=1, min_samples_split=2,\n",
       "                      min_weight_fraction_leaf=0.0, n_estimators=50, n_jobs=4,\n",
       "                      oob_score=False, random_state=1, verbose=0,\n",
       "                      warm_start=False)"
      ]
     },
     "execution_count": 15,
     "metadata": {
      "tags": []
     },
     "output_type": "execute_result"
    }
   ],
   "source": [
    "rf_model.fit(X_train, Y_train)"
   ]
  },
  {
   "cell_type": "code",
   "execution_count": 16,
   "metadata": {
    "colab": {
     "base_uri": "https://localhost:8080/",
     "height": 50
    },
    "colab_type": "code",
    "executionInfo": {
     "elapsed": 19290,
     "status": "ok",
     "timestamp": 1576026845757,
     "user": {
      "displayName": "Yuan Hu",
      "photoUrl": "",
      "userId": "14204862805009818583"
     },
     "user_tz": 480
    },
    "id": "l7iXew-CLwK1",
    "outputId": "b5611336-a098-474d-8a0e-94a704e23e9a"
   },
   "outputs": [
    {
     "name": "stdout",
     "output_type": "stream",
     "text": [
      "RMSE of train set:  0.9088762580029767\n",
      "RMSE of validation set:  0.9425947736632342\n"
     ]
    }
   ],
   "source": [
    "rf_train_predict = rf_model.predict(X_train).clip(0, 20)\n",
    "rf_validate_predict = rf_model.predict(X_validation).clip(0, 20)\n",
    "print(\"RMSE of train set: \", np.sqrt(mean_squared_error(Y_train, rf_train_predict)))\n",
    "print(\"RMSE of validation set: \", np.sqrt(mean_squared_error(Y_validation, rf_validate_predict)))"
   ]
  },
  {
   "cell_type": "markdown",
   "metadata": {
    "colab_type": "text",
    "id": "CdgMApPrnlWH"
   },
   "source": [
    "<h2>xgboost</h2>"
   ]
  },
  {
   "cell_type": "code",
   "execution_count": 0,
   "metadata": {
    "colab": {},
    "colab_type": "code",
    "id": "6LmujZ0qnlWI"
   },
   "outputs": [],
   "source": [
    "xgb_model = XGBRegressor(\n",
    "    max_depth = 8,\n",
    "    n_estimators = 500,\n",
    "    min_child_weight = 300,\n",
    "    colsample_bytree = 0.8,\n",
    "    subsample = 0.7,\n",
    "    eta = 0.3, # learning rate\n",
    "    alpha = 0, # L1 regularization\n",
    "    seed = 1)"
   ]
  },
  {
   "cell_type": "code",
   "execution_count": 14,
   "metadata": {
    "colab": {
     "base_uri": "https://localhost:8080/",
     "height": 924
    },
    "colab_type": "code",
    "executionInfo": {
     "elapsed": 2910363,
     "status": "ok",
     "timestamp": 1576030127015,
     "user": {
      "displayName": "Yuan Hu",
      "photoUrl": "",
      "userId": "14204862805009818583"
     },
     "user_tz": 480
    },
    "id": "0dGnlu4KnlWK",
    "outputId": "9fed0704-2304-49c8-f2c3-55f4821e57fa"
   },
   "outputs": [
    {
     "name": "stdout",
     "output_type": "stream",
     "text": [
      "[0]\tvalidation_0-rmse:1.17949\tvalidation_1-rmse:1.12183\n",
      "Multiple eval metrics have been passed: 'validation_1-rmse' will be used for early stopping.\n",
      "\n",
      "Will train until validation_1-rmse hasn't improved in 10 rounds.\n",
      "[1]\tvalidation_0-rmse:1.13369\tvalidation_1-rmse:1.08704\n",
      "[2]\tvalidation_0-rmse:1.09372\tvalidation_1-rmse:1.05499\n",
      "[3]\tvalidation_0-rmse:1.06074\tvalidation_1-rmse:1.03121\n",
      "[4]\tvalidation_0-rmse:1.03129\tvalidation_1-rmse:1.00778\n",
      "[5]\tvalidation_0-rmse:1.00721\tvalidation_1-rmse:0.98916\n",
      "[6]\tvalidation_0-rmse:0.987536\tvalidation_1-rmse:0.976544\n",
      "[7]\tvalidation_0-rmse:0.970361\tvalidation_1-rmse:0.964907\n",
      "[8]\tvalidation_0-rmse:0.957063\tvalidation_1-rmse:0.95636\n",
      "[9]\tvalidation_0-rmse:0.945139\tvalidation_1-rmse:0.949696\n",
      "[10]\tvalidation_0-rmse:0.934552\tvalidation_1-rmse:0.943952\n",
      "[11]\tvalidation_0-rmse:0.92554\tvalidation_1-rmse:0.938177\n",
      "[12]\tvalidation_0-rmse:0.918325\tvalidation_1-rmse:0.934976\n",
      "[13]\tvalidation_0-rmse:0.91175\tvalidation_1-rmse:0.930867\n",
      "[14]\tvalidation_0-rmse:0.905487\tvalidation_1-rmse:0.929412\n",
      "[15]\tvalidation_0-rmse:0.899319\tvalidation_1-rmse:0.925677\n",
      "[16]\tvalidation_0-rmse:0.89488\tvalidation_1-rmse:0.923682\n",
      "[17]\tvalidation_0-rmse:0.891236\tvalidation_1-rmse:0.922529\n",
      "[18]\tvalidation_0-rmse:0.888208\tvalidation_1-rmse:0.921964\n",
      "[19]\tvalidation_0-rmse:0.884918\tvalidation_1-rmse:0.920897\n",
      "[20]\tvalidation_0-rmse:0.881915\tvalidation_1-rmse:0.919964\n",
      "[21]\tvalidation_0-rmse:0.879324\tvalidation_1-rmse:0.919511\n",
      "[22]\tvalidation_0-rmse:0.87701\tvalidation_1-rmse:0.918489\n",
      "[23]\tvalidation_0-rmse:0.874943\tvalidation_1-rmse:0.918001\n",
      "[24]\tvalidation_0-rmse:0.873127\tvalidation_1-rmse:0.917632\n",
      "[25]\tvalidation_0-rmse:0.871521\tvalidation_1-rmse:0.917239\n",
      "[26]\tvalidation_0-rmse:0.86989\tvalidation_1-rmse:0.917258\n",
      "[27]\tvalidation_0-rmse:0.868439\tvalidation_1-rmse:0.917047\n",
      "[28]\tvalidation_0-rmse:0.867142\tvalidation_1-rmse:0.916727\n",
      "[29]\tvalidation_0-rmse:0.866051\tvalidation_1-rmse:0.916614\n",
      "[30]\tvalidation_0-rmse:0.864803\tvalidation_1-rmse:0.915593\n",
      "[31]\tvalidation_0-rmse:0.86391\tvalidation_1-rmse:0.91568\n",
      "[32]\tvalidation_0-rmse:0.862995\tvalidation_1-rmse:0.91567\n",
      "[33]\tvalidation_0-rmse:0.861675\tvalidation_1-rmse:0.916175\n",
      "[34]\tvalidation_0-rmse:0.86069\tvalidation_1-rmse:0.917266\n",
      "[35]\tvalidation_0-rmse:0.859764\tvalidation_1-rmse:0.918101\n",
      "[36]\tvalidation_0-rmse:0.859016\tvalidation_1-rmse:0.917924\n",
      "[37]\tvalidation_0-rmse:0.858308\tvalidation_1-rmse:0.917774\n",
      "[38]\tvalidation_0-rmse:0.857402\tvalidation_1-rmse:0.917865\n",
      "[39]\tvalidation_0-rmse:0.856817\tvalidation_1-rmse:0.918076\n",
      "[40]\tvalidation_0-rmse:0.856241\tvalidation_1-rmse:0.917885\n",
      "Stopping. Best iteration:\n",
      "[30]\tvalidation_0-rmse:0.864803\tvalidation_1-rmse:0.915593\n",
      "\n"
     ]
    },
    {
     "data": {
      "text/plain": [
       "XGBRegressor(alpha=0, base_score=0.5, booster='gbtree', colsample_bylevel=1,\n",
       "             colsample_bynode=1, colsample_bytree=0.8, eta=0.3, gamma=0,\n",
       "             importance_type='gain', learning_rate=0.1, max_delta_step=0,\n",
       "             max_depth=8, min_child_weight=300, missing=None, n_estimators=1000,\n",
       "             n_jobs=1, nthread=None, objective='reg:linear', random_state=0,\n",
       "             reg_alpha=0, reg_lambda=1, scale_pos_weight=1, seed=1, silent=None,\n",
       "             subsample=0.7, verbosity=1)"
      ]
     },
     "execution_count": 14,
     "metadata": {
      "tags": []
     },
     "output_type": "execute_result"
    }
   ],
   "source": [
    "xgb_model.fit(\n",
    "    X_train,\n",
    "    Y_train,\n",
    "    eval_set = [(X_train, Y_train), (X_validation, Y_validation)],\n",
    "    eval_metric = \"rmse\",\n",
    "    verbose = True,\n",
    "    early_stopping_rounds = 10)"
   ]
  },
  {
   "cell_type": "code",
   "execution_count": 20,
   "metadata": {
    "colab": {
     "base_uri": "https://localhost:8080/",
     "height": 893
    },
    "colab_type": "code",
    "executionInfo": {
     "elapsed": 2248,
     "status": "ok",
     "timestamp": 1576030441701,
     "user": {
      "displayName": "Yuan Hu",
      "photoUrl": "",
      "userId": "14204862805009818583"
     },
     "user_tz": 480
    },
    "id": "7vGk2dNYnlWL",
    "outputId": "43803908-9b2f-4792-fbd5-0101012628eb"
   },
   "outputs": [
    {
     "data": {
      "image/png": "[encoded data removed]",
      "text/plain": [
       "<Figure size 1008x1080 with 1 Axes>"
      ]
     },
     "metadata": {
      "tags": []
     },
     "output_type": "display_data"
    }
   ],
   "source": [
    "plt.rcParams[\"figure.figsize\"] = (14, 15)\n",
    "plot_importance(xgb_model)\n",
    "plt.show()"
   ]
  },
  {
   "cell_type": "code",
   "execution_count": 0,
   "metadata": {
    "colab": {},
    "colab_type": "code",
    "id": "1DdWgvgAnlWO"
   },
   "outputs": [],
   "source": [
    "xgb_validate_predict = xgb_model.predict(X_validation).clip(0, 20)"
   ]
  },
  {
   "cell_type": "markdown",
   "metadata": {
    "colab_type": "text",
    "id": "AhgWSDodnlWQ"
   },
   "source": [
    "<h1>Future Prediction</h1>"
   ]
  },
  {
   "cell_type": "code",
   "execution_count": 0,
   "metadata": {
    "colab": {},
    "colab_type": "code",
    "id": "V39etum0nlWQ"
   },
   "outputs": [],
   "source": [
    "Y_test = xgb_model.predict(X_test).clip(0, 20)\n",
    "\n",
    "Y_test = pd.DataFrame({\n",
    "    \"ID\": test.index, \n",
    "    \"item_cnt_month\": Y_test\n",
    "})"
   ]
  },
  {
   "cell_type": "code",
   "execution_count": 24,
   "metadata": {
    "colab": {
     "base_uri": "https://localhost:8080/",
     "height": 195
    },
    "colab_type": "code",
    "executionInfo": {
     "elapsed": 1376,
     "status": "ok",
     "timestamp": 1576030702013,
     "user": {
      "displayName": "Yuan Hu",
      "photoUrl": "",
      "userId": "14204862805009818583"
     },
     "user_tz": 480
    },
    "id": "xK1t6U-uv-S7",
    "outputId": "21ff91e2-194d-4acb-bc61-ba3e203a6f6b"
   },
   "outputs": [
    {
     "data": {
      "text/html": [
       "<div>\n",
       "<style scoped>\n",
       "    .dataframe tbody tr th:only-of-type {\n",
       "        vertical-align: middle;\n",
       "    }\n",
       "\n",
       "    .dataframe tbody tr th {\n",
       "        vertical-align: top;\n",
       "    }\n",
       "\n",
       "    .dataframe thead th {\n",
       "        text-align: right;\n",
       "    }\n",
       "</style>\n",
       "<table border=\"1\" class=\"dataframe\">\n",
       "  <thead>\n",
       "    <tr style=\"text-align: right;\">\n",
       "      <th></th>\n",
       "      <th>ID</th>\n",
       "      <th>item_cnt_month</th>\n",
       "    </tr>\n",
       "  </thead>\n",
       "  <tbody>\n",
       "    <tr>\n",
       "      <th>0</th>\n",
       "      <td>0</td>\n",
       "      <td>0.495072</td>\n",
       "    </tr>\n",
       "    <tr>\n",
       "      <th>1</th>\n",
       "      <td>1</td>\n",
       "      <td>0.364240</td>\n",
       "    </tr>\n",
       "    <tr>\n",
       "      <th>2</th>\n",
       "      <td>2</td>\n",
       "      <td>0.963230</td>\n",
       "    </tr>\n",
       "    <tr>\n",
       "      <th>3</th>\n",
       "      <td>3</td>\n",
       "      <td>0.432487</td>\n",
       "    </tr>\n",
       "    <tr>\n",
       "      <th>4</th>\n",
       "      <td>4</td>\n",
       "      <td>3.471390</td>\n",
       "    </tr>\n",
       "  </tbody>\n",
       "</table>\n",
       "</div>"
      ],
      "text/plain": [
       "   ID  item_cnt_month\n",
       "0   0        0.495072\n",
       "1   1        0.364240\n",
       "2   2        0.963230\n",
       "3   3        0.432487\n",
       "4   4        3.471390"
      ]
     },
     "execution_count": 24,
     "metadata": {
      "tags": []
     },
     "output_type": "execute_result"
    }
   ],
   "source": [
    "Y_test.head()"
   ]
  },
  {
   "cell_type": "code",
   "execution_count": 0,
   "metadata": {
    "colab": {},
    "colab_type": "code",
    "id": "YNdbyZsFv2ed"
   },
   "outputs": [],
   "source": [
    "Y_test.to_csv('xgb_Y_test.csv', index=False)"
   ]
  }
 ],
 "metadata": {
  "accelerator": "GPU",
  "colab": {
   "collapsed_sections": [],
   "machine_shape": "hm",
   "name": "predict_future_sales_train.ipynb",
   "provenance": []
  },
  "kernelspec": {
   "display_name": "Python 3",
   "language": "python",
   "name": "python3"
  },
  "language_info": {
   "codemirror_mode": {
    "name": "ipython",
    "version": 3
   },
   "file_extension": ".py",
   "mimetype": "text/x-python",
   "name": "python",
   "nbconvert_exporter": "python",
   "pygments_lexer": "ipython3",
   "version": "3.7.3"
  }
 },
 "nbformat": 4,
 "nbformat_minor": 1
}
